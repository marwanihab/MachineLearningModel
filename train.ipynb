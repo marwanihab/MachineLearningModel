{
 "metadata": {
  "language_info": {
   "codemirror_mode": {
    "name": "ipython",
    "version": 3
   },
   "file_extension": ".py",
   "mimetype": "text/x-python",
   "name": "python",
   "nbconvert_exporter": "python",
   "pygments_lexer": "ipython3",
   "version": 3
  },
  "orig_nbformat": 2,
  "kernelspec": {
   "name": "python_defaultSpec_1597340039376",
   "display_name": "Python 3.7.3 64-bit ('base': conda)"
  }
 },
 "nbformat": 4,
 "nbformat_minor": 2,
 "cells": [
  {
   "cell_type": "code",
   "execution_count": 1,
   "metadata": {},
   "outputs": [],
   "source": [
    "%matplotlib notebook\n",
    "import numpy as np\n",
    "import pandas as pd\n",
    "import seaborn as sn\n",
    "import matplotlib as plt\n",
    "import matplotlib.pyplot as plt\n"
   ]
  },
  {
   "cell_type": "code",
   "execution_count": 2,
   "metadata": {},
   "outputs": [
    {
     "output_type": "execute_result",
     "data": {
      "text/plain": "  variable1  variable2  variable3 variable4 variable5 variable6 variable7  \\\n0         a      17.92   0.000054         u         g         c         v   \n1         b      16.92   0.000034         y         p         k         v   \n2         b      31.25   0.000112         u         g        ff        ff   \n3         a      48.17   0.000133         u         g         i         o   \n4         b      32.33   0.000350         u         g         k         v   \n\n   variable8 variable9 variable10  variable11 variable12 variable13  \\\n0      1.750         f          t           1          t          g   \n1      0.290         f          f           0          f          s   \n2      0.000         f          t           1          f          g   \n3      0.335         f          f           0          f          g   \n4      0.500         f          f           0          t          g   \n\n   variable14  variable15  variable17 variable18  variable19  Target Class  \n0        80.0           5    800000.0          t           0             0  \n1       200.0           0   2000000.0        NaN           0             0  \n2        96.0          19    960000.0          t           0             0  \n3         0.0         120         0.0        NaN           0             0  \n4       232.0           0   2320000.0          f           0             0  ",
      "text/html": "<div>\n<style scoped>\n    .dataframe tbody tr th:only-of-type {\n        vertical-align: middle;\n    }\n\n    .dataframe tbody tr th {\n        vertical-align: top;\n    }\n\n    .dataframe thead th {\n        text-align: right;\n    }\n</style>\n<table border=\"1\" class=\"dataframe\">\n  <thead>\n    <tr style=\"text-align: right;\">\n      <th></th>\n      <th>variable1</th>\n      <th>variable2</th>\n      <th>variable3</th>\n      <th>variable4</th>\n      <th>variable5</th>\n      <th>variable6</th>\n      <th>variable7</th>\n      <th>variable8</th>\n      <th>variable9</th>\n      <th>variable10</th>\n      <th>variable11</th>\n      <th>variable12</th>\n      <th>variable13</th>\n      <th>variable14</th>\n      <th>variable15</th>\n      <th>variable17</th>\n      <th>variable18</th>\n      <th>variable19</th>\n      <th>Target Class</th>\n    </tr>\n  </thead>\n  <tbody>\n    <tr>\n      <th>0</th>\n      <td>a</td>\n      <td>17.92</td>\n      <td>0.000054</td>\n      <td>u</td>\n      <td>g</td>\n      <td>c</td>\n      <td>v</td>\n      <td>1.750</td>\n      <td>f</td>\n      <td>t</td>\n      <td>1</td>\n      <td>t</td>\n      <td>g</td>\n      <td>80.0</td>\n      <td>5</td>\n      <td>800000.0</td>\n      <td>t</td>\n      <td>0</td>\n      <td>0</td>\n    </tr>\n    <tr>\n      <th>1</th>\n      <td>b</td>\n      <td>16.92</td>\n      <td>0.000034</td>\n      <td>y</td>\n      <td>p</td>\n      <td>k</td>\n      <td>v</td>\n      <td>0.290</td>\n      <td>f</td>\n      <td>f</td>\n      <td>0</td>\n      <td>f</td>\n      <td>s</td>\n      <td>200.0</td>\n      <td>0</td>\n      <td>2000000.0</td>\n      <td>NaN</td>\n      <td>0</td>\n      <td>0</td>\n    </tr>\n    <tr>\n      <th>2</th>\n      <td>b</td>\n      <td>31.25</td>\n      <td>0.000112</td>\n      <td>u</td>\n      <td>g</td>\n      <td>ff</td>\n      <td>ff</td>\n      <td>0.000</td>\n      <td>f</td>\n      <td>t</td>\n      <td>1</td>\n      <td>f</td>\n      <td>g</td>\n      <td>96.0</td>\n      <td>19</td>\n      <td>960000.0</td>\n      <td>t</td>\n      <td>0</td>\n      <td>0</td>\n    </tr>\n    <tr>\n      <th>3</th>\n      <td>a</td>\n      <td>48.17</td>\n      <td>0.000133</td>\n      <td>u</td>\n      <td>g</td>\n      <td>i</td>\n      <td>o</td>\n      <td>0.335</td>\n      <td>f</td>\n      <td>f</td>\n      <td>0</td>\n      <td>f</td>\n      <td>g</td>\n      <td>0.0</td>\n      <td>120</td>\n      <td>0.0</td>\n      <td>NaN</td>\n      <td>0</td>\n      <td>0</td>\n    </tr>\n    <tr>\n      <th>4</th>\n      <td>b</td>\n      <td>32.33</td>\n      <td>0.000350</td>\n      <td>u</td>\n      <td>g</td>\n      <td>k</td>\n      <td>v</td>\n      <td>0.500</td>\n      <td>f</td>\n      <td>f</td>\n      <td>0</td>\n      <td>t</td>\n      <td>g</td>\n      <td>232.0</td>\n      <td>0</td>\n      <td>2320000.0</td>\n      <td>f</td>\n      <td>0</td>\n      <td>0</td>\n    </tr>\n  </tbody>\n</table>\n</div>"
     },
     "metadata": {},
     "execution_count": 2
    }
   ],
   "source": [
    "df = pd.read_csv('training.csv', sep=';', decimal=',')\n",
    "df = df.rename(columns = {'classLabel': 'Target Class'})\n",
    "df.loc[df['Target Class'] == 'no.', 'Target Class'] = 0\n",
    "df.loc[df['Target Class'] == 'yes.', 'Target Class'] = 1\n",
    "df[['variable2', 'variable3', 'variable8', 'variable14', 'variable15','variable17','variable19']].astype('float64').dtypes\n",
    "df.head()\n"
   ]
  },
  {
   "cell_type": "code",
   "execution_count": 3,
   "metadata": {},
   "outputs": [
    {
     "output_type": "execute_result",
     "data": {
      "text/plain": "  variable1  variable2  variable3 variable4 variable5 variable6 variable7  \\\n0         b      32.33   0.000750         u         g         e        bb   \n1         b      23.58   0.000179         u         g         c         v   \n2         b      36.42   0.000075         y         p         d         v   \n3         b      18.42   0.001041         y         p        aa         v   \n4         b      24.50   0.001334         y         p        aa         v   \n\n   variable8 variable9 variable10  variable11 variable12 variable13  \\\n0      1.585         t          f           0          t          s   \n1      0.540         f          f           0          t          g   \n2      0.585         f          f           0          f          g   \n3      0.125         t          f           0          f          g   \n4      0.040         f          f           0          t          g   \n\n   variable14  variable15  variable17 variable18  variable19  Target Class  \n0       420.0           0   4200000.0        NaN           1             0  \n1       136.0           1   1360000.0        NaN           0             0  \n2       240.0           3   2400000.0        NaN           1             0  \n3       120.0         375   1200000.0        NaN           0             0  \n4       120.0         475   1200000.0          f           1             0  ",
      "text/html": "<div>\n<style scoped>\n    .dataframe tbody tr th:only-of-type {\n        vertical-align: middle;\n    }\n\n    .dataframe tbody tr th {\n        vertical-align: top;\n    }\n\n    .dataframe thead th {\n        text-align: right;\n    }\n</style>\n<table border=\"1\" class=\"dataframe\">\n  <thead>\n    <tr style=\"text-align: right;\">\n      <th></th>\n      <th>variable1</th>\n      <th>variable2</th>\n      <th>variable3</th>\n      <th>variable4</th>\n      <th>variable5</th>\n      <th>variable6</th>\n      <th>variable7</th>\n      <th>variable8</th>\n      <th>variable9</th>\n      <th>variable10</th>\n      <th>variable11</th>\n      <th>variable12</th>\n      <th>variable13</th>\n      <th>variable14</th>\n      <th>variable15</th>\n      <th>variable17</th>\n      <th>variable18</th>\n      <th>variable19</th>\n      <th>Target Class</th>\n    </tr>\n  </thead>\n  <tbody>\n    <tr>\n      <th>0</th>\n      <td>b</td>\n      <td>32.33</td>\n      <td>0.000750</td>\n      <td>u</td>\n      <td>g</td>\n      <td>e</td>\n      <td>bb</td>\n      <td>1.585</td>\n      <td>t</td>\n      <td>f</td>\n      <td>0</td>\n      <td>t</td>\n      <td>s</td>\n      <td>420.0</td>\n      <td>0</td>\n      <td>4200000.0</td>\n      <td>NaN</td>\n      <td>1</td>\n      <td>0</td>\n    </tr>\n    <tr>\n      <th>1</th>\n      <td>b</td>\n      <td>23.58</td>\n      <td>0.000179</td>\n      <td>u</td>\n      <td>g</td>\n      <td>c</td>\n      <td>v</td>\n      <td>0.540</td>\n      <td>f</td>\n      <td>f</td>\n      <td>0</td>\n      <td>t</td>\n      <td>g</td>\n      <td>136.0</td>\n      <td>1</td>\n      <td>1360000.0</td>\n      <td>NaN</td>\n      <td>0</td>\n      <td>0</td>\n    </tr>\n    <tr>\n      <th>2</th>\n      <td>b</td>\n      <td>36.42</td>\n      <td>0.000075</td>\n      <td>y</td>\n      <td>p</td>\n      <td>d</td>\n      <td>v</td>\n      <td>0.585</td>\n      <td>f</td>\n      <td>f</td>\n      <td>0</td>\n      <td>f</td>\n      <td>g</td>\n      <td>240.0</td>\n      <td>3</td>\n      <td>2400000.0</td>\n      <td>NaN</td>\n      <td>1</td>\n      <td>0</td>\n    </tr>\n    <tr>\n      <th>3</th>\n      <td>b</td>\n      <td>18.42</td>\n      <td>0.001041</td>\n      <td>y</td>\n      <td>p</td>\n      <td>aa</td>\n      <td>v</td>\n      <td>0.125</td>\n      <td>t</td>\n      <td>f</td>\n      <td>0</td>\n      <td>f</td>\n      <td>g</td>\n      <td>120.0</td>\n      <td>375</td>\n      <td>1200000.0</td>\n      <td>NaN</td>\n      <td>0</td>\n      <td>0</td>\n    </tr>\n    <tr>\n      <th>4</th>\n      <td>b</td>\n      <td>24.50</td>\n      <td>0.001334</td>\n      <td>y</td>\n      <td>p</td>\n      <td>aa</td>\n      <td>v</td>\n      <td>0.040</td>\n      <td>f</td>\n      <td>f</td>\n      <td>0</td>\n      <td>t</td>\n      <td>g</td>\n      <td>120.0</td>\n      <td>475</td>\n      <td>1200000.0</td>\n      <td>f</td>\n      <td>1</td>\n      <td>0</td>\n    </tr>\n  </tbody>\n</table>\n</div>"
     },
     "metadata": {},
     "execution_count": 3
    }
   ],
   "source": [
    "validation = pd.read_csv('validation.csv', sep=';', decimal=',')\n",
    "validation = validation.rename(columns = {'classLabel': 'Target Class'})\n",
    "validation.loc[validation['Target Class'] == 'no.', 'Target Class'] = 0\n",
    "validation.loc[validation['Target Class'] == 'yes.', 'Target Class'] = 1\n",
    "validation[['variable2', 'variable3', 'variable8', 'variable14', 'variable15','variable17','variable19']].astype('float64').dtypes\n",
    "validation.head()\n",
    " "
   ]
  },
  {
   "cell_type": "code",
   "execution_count": 4,
   "metadata": {},
   "outputs": [
    {
     "output_type": "execute_result",
     "data": {
      "text/plain": "(3700, 19)"
     },
     "metadata": {},
     "execution_count": 4
    }
   ],
   "source": [
    "df.shape"
   ]
  },
  {
   "cell_type": "code",
   "execution_count": 5,
   "metadata": {},
   "outputs": [
    {
     "output_type": "execute_result",
     "data": {
      "text/plain": "variable1         39\nvariable2         39\nvariable3          0\nvariable4         64\nvariable5         64\nvariable6         66\nvariable7         66\nvariable8          0\nvariable9          0\nvariable10         0\nvariable11         0\nvariable12         0\nvariable13         0\nvariable14       100\nvariable15         0\nvariable17       100\nvariable18      2145\nvariable19         0\nTarget Class       0\ndtype: int64"
     },
     "metadata": {},
     "execution_count": 5
    }
   ],
   "source": [
    "df.isnull().sum()"
   ]
  },
  {
   "cell_type": "code",
   "execution_count": 6,
   "metadata": {
    "tags": []
   },
   "outputs": [
    {
     "output_type": "stream",
     "name": "stdout",
     "text": "Dropping column variable18 because it has too many missing values with a percentage of 57.97%\n"
    },
    {
     "output_type": "execute_result",
     "data": {
      "text/plain": "  variable1  variable2  variable3 variable4 variable5 variable6 variable7  \\\n0         a      17.92   0.000054         u         g         c         v   \n1         b      16.92   0.000034         y         p         k         v   \n2         b      31.25   0.000112         u         g        ff        ff   \n3         a      48.17   0.000133         u         g         i         o   \n4         b      32.33   0.000350         u         g         k         v   \n\n   variable8 variable9 variable10  variable11 variable12 variable13  \\\n0      1.750         f          t           1          t          g   \n1      0.290         f          f           0          f          s   \n2      0.000         f          t           1          f          g   \n3      0.335         f          f           0          f          g   \n4      0.500         f          f           0          t          g   \n\n   variable14  variable15  variable17  variable19  Target Class  \n0        80.0           5    800000.0           0             0  \n1       200.0           0   2000000.0           0             0  \n2        96.0          19    960000.0           0             0  \n3         0.0         120         0.0           0             0  \n4       232.0           0   2320000.0           0             0  ",
      "text/html": "<div>\n<style scoped>\n    .dataframe tbody tr th:only-of-type {\n        vertical-align: middle;\n    }\n\n    .dataframe tbody tr th {\n        vertical-align: top;\n    }\n\n    .dataframe thead th {\n        text-align: right;\n    }\n</style>\n<table border=\"1\" class=\"dataframe\">\n  <thead>\n    <tr style=\"text-align: right;\">\n      <th></th>\n      <th>variable1</th>\n      <th>variable2</th>\n      <th>variable3</th>\n      <th>variable4</th>\n      <th>variable5</th>\n      <th>variable6</th>\n      <th>variable7</th>\n      <th>variable8</th>\n      <th>variable9</th>\n      <th>variable10</th>\n      <th>variable11</th>\n      <th>variable12</th>\n      <th>variable13</th>\n      <th>variable14</th>\n      <th>variable15</th>\n      <th>variable17</th>\n      <th>variable19</th>\n      <th>Target Class</th>\n    </tr>\n  </thead>\n  <tbody>\n    <tr>\n      <th>0</th>\n      <td>a</td>\n      <td>17.92</td>\n      <td>0.000054</td>\n      <td>u</td>\n      <td>g</td>\n      <td>c</td>\n      <td>v</td>\n      <td>1.750</td>\n      <td>f</td>\n      <td>t</td>\n      <td>1</td>\n      <td>t</td>\n      <td>g</td>\n      <td>80.0</td>\n      <td>5</td>\n      <td>800000.0</td>\n      <td>0</td>\n      <td>0</td>\n    </tr>\n    <tr>\n      <th>1</th>\n      <td>b</td>\n      <td>16.92</td>\n      <td>0.000034</td>\n      <td>y</td>\n      <td>p</td>\n      <td>k</td>\n      <td>v</td>\n      <td>0.290</td>\n      <td>f</td>\n      <td>f</td>\n      <td>0</td>\n      <td>f</td>\n      <td>s</td>\n      <td>200.0</td>\n      <td>0</td>\n      <td>2000000.0</td>\n      <td>0</td>\n      <td>0</td>\n    </tr>\n    <tr>\n      <th>2</th>\n      <td>b</td>\n      <td>31.25</td>\n      <td>0.000112</td>\n      <td>u</td>\n      <td>g</td>\n      <td>ff</td>\n      <td>ff</td>\n      <td>0.000</td>\n      <td>f</td>\n      <td>t</td>\n      <td>1</td>\n      <td>f</td>\n      <td>g</td>\n      <td>96.0</td>\n      <td>19</td>\n      <td>960000.0</td>\n      <td>0</td>\n      <td>0</td>\n    </tr>\n    <tr>\n      <th>3</th>\n      <td>a</td>\n      <td>48.17</td>\n      <td>0.000133</td>\n      <td>u</td>\n      <td>g</td>\n      <td>i</td>\n      <td>o</td>\n      <td>0.335</td>\n      <td>f</td>\n      <td>f</td>\n      <td>0</td>\n      <td>f</td>\n      <td>g</td>\n      <td>0.0</td>\n      <td>120</td>\n      <td>0.0</td>\n      <td>0</td>\n      <td>0</td>\n    </tr>\n    <tr>\n      <th>4</th>\n      <td>b</td>\n      <td>32.33</td>\n      <td>0.000350</td>\n      <td>u</td>\n      <td>g</td>\n      <td>k</td>\n      <td>v</td>\n      <td>0.500</td>\n      <td>f</td>\n      <td>f</td>\n      <td>0</td>\n      <td>t</td>\n      <td>g</td>\n      <td>232.0</td>\n      <td>0</td>\n      <td>2320000.0</td>\n      <td>0</td>\n      <td>0</td>\n    </tr>\n  </tbody>\n</table>\n</div>"
     },
     "metadata": {},
     "execution_count": 6
    }
   ],
   "source": [
    "#Dropping Variable18 because it has too many missing values \n",
    "print(\"Dropping column variable18 because it has too many missing values with a percentage of %.2f%%\" %((df['variable18'].isnull().sum()/df.shape[0])*100))\n",
    "df = df.drop('variable18' , axis = 1)\n",
    "df.head()"
   ]
  },
  {
   "cell_type": "code",
   "execution_count": 7,
   "metadata": {},
   "outputs": [
    {
     "output_type": "execute_result",
     "data": {
      "text/plain": "  variable1  variable2  variable3 variable4 variable5 variable6 variable7  \\\n0         b      32.33   0.000750         u         g         e        bb   \n1         b      23.58   0.000179         u         g         c         v   \n2         b      36.42   0.000075         y         p         d         v   \n3         b      18.42   0.001041         y         p        aa         v   \n4         b      24.50   0.001334         y         p        aa         v   \n\n   variable8 variable9 variable10  variable11 variable12 variable13  \\\n0      1.585         t          f           0          t          s   \n1      0.540         f          f           0          t          g   \n2      0.585         f          f           0          f          g   \n3      0.125         t          f           0          f          g   \n4      0.040         f          f           0          t          g   \n\n   variable14  variable15  variable17  variable19  Target Class  \n0       420.0           0   4200000.0           1             0  \n1       136.0           1   1360000.0           0             0  \n2       240.0           3   2400000.0           1             0  \n3       120.0         375   1200000.0           0             0  \n4       120.0         475   1200000.0           1             0  ",
      "text/html": "<div>\n<style scoped>\n    .dataframe tbody tr th:only-of-type {\n        vertical-align: middle;\n    }\n\n    .dataframe tbody tr th {\n        vertical-align: top;\n    }\n\n    .dataframe thead th {\n        text-align: right;\n    }\n</style>\n<table border=\"1\" class=\"dataframe\">\n  <thead>\n    <tr style=\"text-align: right;\">\n      <th></th>\n      <th>variable1</th>\n      <th>variable2</th>\n      <th>variable3</th>\n      <th>variable4</th>\n      <th>variable5</th>\n      <th>variable6</th>\n      <th>variable7</th>\n      <th>variable8</th>\n      <th>variable9</th>\n      <th>variable10</th>\n      <th>variable11</th>\n      <th>variable12</th>\n      <th>variable13</th>\n      <th>variable14</th>\n      <th>variable15</th>\n      <th>variable17</th>\n      <th>variable19</th>\n      <th>Target Class</th>\n    </tr>\n  </thead>\n  <tbody>\n    <tr>\n      <th>0</th>\n      <td>b</td>\n      <td>32.33</td>\n      <td>0.000750</td>\n      <td>u</td>\n      <td>g</td>\n      <td>e</td>\n      <td>bb</td>\n      <td>1.585</td>\n      <td>t</td>\n      <td>f</td>\n      <td>0</td>\n      <td>t</td>\n      <td>s</td>\n      <td>420.0</td>\n      <td>0</td>\n      <td>4200000.0</td>\n      <td>1</td>\n      <td>0</td>\n    </tr>\n    <tr>\n      <th>1</th>\n      <td>b</td>\n      <td>23.58</td>\n      <td>0.000179</td>\n      <td>u</td>\n      <td>g</td>\n      <td>c</td>\n      <td>v</td>\n      <td>0.540</td>\n      <td>f</td>\n      <td>f</td>\n      <td>0</td>\n      <td>t</td>\n      <td>g</td>\n      <td>136.0</td>\n      <td>1</td>\n      <td>1360000.0</td>\n      <td>0</td>\n      <td>0</td>\n    </tr>\n    <tr>\n      <th>2</th>\n      <td>b</td>\n      <td>36.42</td>\n      <td>0.000075</td>\n      <td>y</td>\n      <td>p</td>\n      <td>d</td>\n      <td>v</td>\n      <td>0.585</td>\n      <td>f</td>\n      <td>f</td>\n      <td>0</td>\n      <td>f</td>\n      <td>g</td>\n      <td>240.0</td>\n      <td>3</td>\n      <td>2400000.0</td>\n      <td>1</td>\n      <td>0</td>\n    </tr>\n    <tr>\n      <th>3</th>\n      <td>b</td>\n      <td>18.42</td>\n      <td>0.001041</td>\n      <td>y</td>\n      <td>p</td>\n      <td>aa</td>\n      <td>v</td>\n      <td>0.125</td>\n      <td>t</td>\n      <td>f</td>\n      <td>0</td>\n      <td>f</td>\n      <td>g</td>\n      <td>120.0</td>\n      <td>375</td>\n      <td>1200000.0</td>\n      <td>0</td>\n      <td>0</td>\n    </tr>\n    <tr>\n      <th>4</th>\n      <td>b</td>\n      <td>24.50</td>\n      <td>0.001334</td>\n      <td>y</td>\n      <td>p</td>\n      <td>aa</td>\n      <td>v</td>\n      <td>0.040</td>\n      <td>f</td>\n      <td>f</td>\n      <td>0</td>\n      <td>t</td>\n      <td>g</td>\n      <td>120.0</td>\n      <td>475</td>\n      <td>1200000.0</td>\n      <td>1</td>\n      <td>0</td>\n    </tr>\n  </tbody>\n</table>\n</div>"
     },
     "metadata": {},
     "execution_count": 7
    }
   ],
   "source": [
    "validation = validation.drop('variable18' , axis = 1)\n",
    "validation.head()"
   ]
  },
  {
   "cell_type": "code",
   "execution_count": 8,
   "metadata": {
    "tags": []
   },
   "outputs": [
    {
     "output_type": "stream",
     "name": "stdout",
     "text": "Now we have two options either dropping the missing nan values rows especially the are really small because they are exactly 178 rows or since that these rows are not that much we can try to replace the values of each nan with the most frequent value of each column and since the numbers of the rows is small it will not cause a high chance of inmbalance in our data, as for the colums with numbers we can fill them with the mean\n"
    }
   ],
   "source": [
    "print(\"Now we have two options either dropping the missing nan values rows especially the are really small because they are exactly %d rows\" % (df.shape[0] - df.dropna().shape[0]), \"or since that these rows are not that much we can try to replace the values of each nan with the most frequent value of each column and since the numbers of the rows is small it will not cause a high chance of inmbalance in our data, as for the colums with numbers we can fill them with the mean\")"
   ]
  },
  {
   "cell_type": "code",
   "execution_count": 9,
   "metadata": {},
   "outputs": [
    {
     "output_type": "execute_result",
     "data": {
      "text/plain": "     variable1  variable2  variable3 variable4 variable5 variable6 variable7  \\\n0            a  17.920000   0.000054         u         g         c         v   \n1            b  16.920000   0.000034         y         p         k         v   \n2            b  31.250000   0.000112         u         g        ff        ff   \n3            a  48.170000   0.000133         u         g         i         o   \n4            b  32.330000   0.000350         u         g         k         v   \n5            a  34.830000   0.000125         y         p         i         h   \n6            a  26.170000   0.000200         u         g         j         j   \n7            b  21.170000   0.000087         y         p         c         h   \n8            b  28.920000   0.000037         u         g         c         v   \n9            b  18.170000   0.001025         u         g         c         h   \n10           a  24.750000   0.001366         u         g         q         h   \n11           a  31.750000   0.000300         y         p         j         j   \n12           a  18.170000   0.001000         y         p         q         h   \n13           a  18.250000   0.001000         u         g         W         v   \n14           b  17.580000   0.001000         u         g         W         h   \n15           b  51.830000   0.000204         y         p        ff        ff   \n16           b  26.670000   0.001459         u         g         i        bb   \n17           b  31.420000   0.001550         u         g         c         v   \n18           b  25.670000   0.000325         u         g         c         h   \n19           b  33.750000   0.000275         u         g         i        bb   \n20           b  32.750000   0.000233         u         g         d         h   \n21           b  39.830000   0.000050         u         g         m         v   \n22           a  40.330000   0.000812         y         p         k         v   \n23           b  35.250000   0.001650         y         p         c         v   \n24           a  24.330000   0.000250         y         p         i        bb   \n25           a  15.750000   0.000037         u         g         c         v   \n26           a  45.000000   0.000458         u         g         k         h   \n27           a  30.420000   0.000138         u         g         W         h   \n28           a  32.820713   0.000350         u         g         d         v   \n29           b  17.250000   0.000300         u         g         k         v   \n...        ...        ...        ...       ...       ...       ...       ...   \n3670         a  24.500000   0.000050         u         g         q         h   \n3671         b  20.250000   0.000996         u         g         e        dd   \n3672         b  18.500000   0.000200         u         g         i         v   \n3673         b  25.170000   0.000350         u         g        cc         v   \n3674         b  44.330000   0.000050         u         g         i         h   \n3675         b  18.080000   0.000550         u         g         k         v   \n3676         a  60.580000   0.001650         u         g         q         v   \n3677         b  41.500000   0.000154         u         g         i        bb   \n3678         a  25.750000   0.000050         u         g         c         h   \n3679         b  29.250000   0.001479         u         g        aa         v   \n3680         a  36.000000   0.000100         u         g         c         v   \n3681         b  31.670000   0.001616         u         g         d         v   \n3682         b  60.080000   0.001450         u         g        ff        ff   \n3683         b  22.330000   0.001100         u         g         W         v   \n3684         b  40.000000   0.000650         u         g        aa        bb   \n3685         b  35.170000   0.002512         u         g         x         h   \n3686         b  41.330000   0.000000         u         g         c        bb   \n3687         a  20.750000   0.001034         u         g        cc         h   \n3688         b  32.080000   0.000400         u         g         m         v   \n3689         b  32.820713   0.000400         u         g         x         v   \n3690         b  23.920000   0.000150         u         g         d         h   \n3691         a  23.250000   0.000588         u         g         q         v   \n3692         a  46.670000   0.000046         u         g        cc         h   \n3693         a  25.000000   0.001233         u         g        cc         h   \n3694         b  25.500000   0.000037         u         g         m         v   \n3695         a  18.750000   0.000750         u         g         q         v   \n3696         a  23.500000   0.000900         u         g         q         v   \n3697         b  34.170000   0.000917         u         g         c         v   \n3698         b  27.830000   0.000154         u         g         W         v   \n3699         a  36.750000   0.000513         u         g         e         v   \n\n      variable8 variable9 variable10  variable11 variable12 variable13  \\\n0         1.750         f          t           1          t          g   \n1         0.290         f          f           0          f          s   \n2         0.000         f          t           1          f          g   \n3         0.335         f          f           0          f          g   \n4         0.500         f          f           0          t          g   \n5         0.500         f          f           0          t          g   \n6         0.000         f          f           0          t          g   \n7         0.250         f          f           0          f          g   \n8         0.290         f          f           0          f          g   \n9         1.085         f          f           0          f          g   \n10        1.500         f          f           0          f          g   \n11        0.000         f          f           0          f          g   \n12        0.165         f          f           0          f          g   \n13        1.000         f          t           1          f          g   \n14        0.165         f          t           1          f          g   \n15        1.500         f          f           0          f          g   \n16        0.000         f          f           0          t          g   \n17        0.500         t          f           0          f          g   \n18        2.290         f          t           1          t          g   \n19        0.000         f          f           0          f          g   \n20        5.750         f          f           0          t          g   \n21        0.250         t          f           0          f          s   \n22        0.165         f          t           2          f          g   \n23        4.000         t          f           0          f          g   \n24        4.500         f          f           0          f          g   \n25        1.000         f          f           0          f          g   \n26        1.000         f          f           0          t          s   \n27        0.040         f          t           3          f          g   \n28        3.000         t          f           0          t          g   \n29        0.040         f          f           0          t          g   \n...         ...       ...        ...         ...        ...        ...   \n3670      1.500         t          f           0          f          g   \n3671      0.000         t          f           0          f          g   \n3672      1.500         t          t           2          f          g   \n3673      0.625         t          t           7          f          g   \n3674      5.000         t          f           0          t          g   \n3675      0.500         t          f           0          f          g   \n3676     11.000         t          f           0          t          g   \n3677      3.500         f          f           0          f          g   \n3678      0.875         t          f           0          t          g   \n3679      5.040         t          t           5          t          g   \n3680      2.000         t          t          11          f          g   \n3681      3.000         t          t           9          f          g   \n3682     18.000         t          t          15          t          g   \n3683      2.000         t          t           1          f          g   \n3684      3.500         t          t           1          f          g   \n3685      1.625         t          t           1          t          g   \n3686     15.000         t          f           0          f          g   \n3687      0.335         t          t           1          t          g   \n3688      2.500         t          f           0          t          g   \n3689      5.000         t          t           3          t          g   \n3690      1.875         t          t           6          f          g   \n3691      3.170         t          t          10          f          g   \n3692      0.415         t          t          11          t          g   \n3693      3.500         t          t           6          f          g   \n3694      0.250         t          t           3          f          g   \n3695      2.710         t          t           5          f          g   \n3696      8.500         t          t           5          t          g   \n3697      4.500         t          t          12          t          g   \n3698      3.750         t          t           5          t          g   \n3699      5.000         t          f           0          t          g   \n\n      variable14  variable15  variable17  variable19  Target Class  \n0         80.000           5    800000.0           0             0  \n1        200.000           0   2000000.0           0             0  \n2         96.000          19    960000.0           0             0  \n3          0.000         120         0.0           0             0  \n4        232.000           0   2320000.0           0             0  \n5        160.000           0   1600000.0           0             0  \n6        276.000           1   2760000.0           0             0  \n7        280.000         204   2800000.0           0             0  \n8        220.000         140   2200000.0           0             0  \n9        320.000          13   3200000.0           0             0  \n10       280.000           1   2800000.0           0             0  \n11       160.000          20   1600000.0           0             0  \n12       340.000           0   3400000.0           0             0  \n13       120.000           1   1200000.0           0             0  \n14       120.000           1   1200000.0           0             0  \n15       120.000           1   1200000.0           0             0  \n16       178.000           0   1780000.0           0             0  \n17       120.000           0   1200000.0           0             0  \n18       416.000          21   4160000.0           0             0  \n19       180.000           0   1800000.0           0             0  \n20       292.000           0   2920000.0           0             0  \n21       288.000           0   2880000.0           0             0  \n22       162.695          18   1626950.0           0             0  \n23        80.000           0    800000.0           0             0  \n24       200.000         456   2000000.0           0             0  \n25       120.000          18   1200000.0           0             0  \n26       240.000           0   2400000.0           0             0  \n27         0.000          33         0.0           0             0  \n28       300.000           0   3000000.0           0             0  \n29       160.000          40   1600000.0           0             0  \n...          ...         ...         ...         ...           ...  \n3670     280.000         824   2800000.0           1             1  \n3671       0.000           0         0.0           1             1  \n3672     120.000         300   1200000.0           1             1  \n3673       0.000        7059         0.0           1             1  \n3674     320.000           0   3200000.0           1             1  \n3675      80.000           0    800000.0           1             1  \n3676      21.000       10561    210000.0           1             1  \n3677     216.000           0   2160000.0           1             1  \n3678     491.000           0   4910000.0           1             1  \n3679     168.000           0   1680000.0           1             1  \n3680       0.000         456         0.0           1             1  \n3681     250.000         730   2500000.0           1             1  \n3682       0.000        1000         0.0           1             1  \n3683      80.000         278    800000.0           1             1  \n3684       0.000         500         0.0           1             1  \n3685     515.000         500   5150000.0           1             1  \n3686       0.000           0         0.0           1             1  \n3687      80.000          50    800000.0           1             1  \n3688     360.000           0   3600000.0           1             1  \n3689     290.000        2279   2900000.0           1             1  \n3690     200.000         327   2000000.0           1             1  \n3691     120.000         245   1200000.0           1             1  \n3692     440.000           6   4400000.0           1             1  \n3693     400.000         458   4000000.0           1             1  \n3694     260.000       15108   2600000.0           1             1  \n3695     162.695       26726   1626950.0           1             1  \n3696     120.000           0   1200000.0           1             1  \n3697       0.000         221         0.0           1             1  \n3698     100.000           3   1000000.0           1             1  \n3699       0.000        4000         0.0           1             1  \n\n[3700 rows x 18 columns]",
      "text/html": "<div>\n<style scoped>\n    .dataframe tbody tr th:only-of-type {\n        vertical-align: middle;\n    }\n\n    .dataframe tbody tr th {\n        vertical-align: top;\n    }\n\n    .dataframe thead th {\n        text-align: right;\n    }\n</style>\n<table border=\"1\" class=\"dataframe\">\n  <thead>\n    <tr style=\"text-align: right;\">\n      <th></th>\n      <th>variable1</th>\n      <th>variable2</th>\n      <th>variable3</th>\n      <th>variable4</th>\n      <th>variable5</th>\n      <th>variable6</th>\n      <th>variable7</th>\n      <th>variable8</th>\n      <th>variable9</th>\n      <th>variable10</th>\n      <th>variable11</th>\n      <th>variable12</th>\n      <th>variable13</th>\n      <th>variable14</th>\n      <th>variable15</th>\n      <th>variable17</th>\n      <th>variable19</th>\n      <th>Target Class</th>\n    </tr>\n  </thead>\n  <tbody>\n    <tr>\n      <th>0</th>\n      <td>a</td>\n      <td>17.920000</td>\n      <td>0.000054</td>\n      <td>u</td>\n      <td>g</td>\n      <td>c</td>\n      <td>v</td>\n      <td>1.750</td>\n      <td>f</td>\n      <td>t</td>\n      <td>1</td>\n      <td>t</td>\n      <td>g</td>\n      <td>80.000</td>\n      <td>5</td>\n      <td>800000.0</td>\n      <td>0</td>\n      <td>0</td>\n    </tr>\n    <tr>\n      <th>1</th>\n      <td>b</td>\n      <td>16.920000</td>\n      <td>0.000034</td>\n      <td>y</td>\n      <td>p</td>\n      <td>k</td>\n      <td>v</td>\n      <td>0.290</td>\n      <td>f</td>\n      <td>f</td>\n      <td>0</td>\n      <td>f</td>\n      <td>s</td>\n      <td>200.000</td>\n      <td>0</td>\n      <td>2000000.0</td>\n      <td>0</td>\n      <td>0</td>\n    </tr>\n    <tr>\n      <th>2</th>\n      <td>b</td>\n      <td>31.250000</td>\n      <td>0.000112</td>\n      <td>u</td>\n      <td>g</td>\n      <td>ff</td>\n      <td>ff</td>\n      <td>0.000</td>\n      <td>f</td>\n      <td>t</td>\n      <td>1</td>\n      <td>f</td>\n      <td>g</td>\n      <td>96.000</td>\n      <td>19</td>\n      <td>960000.0</td>\n      <td>0</td>\n      <td>0</td>\n    </tr>\n    <tr>\n      <th>3</th>\n      <td>a</td>\n      <td>48.170000</td>\n      <td>0.000133</td>\n      <td>u</td>\n      <td>g</td>\n      <td>i</td>\n      <td>o</td>\n      <td>0.335</td>\n      <td>f</td>\n      <td>f</td>\n      <td>0</td>\n      <td>f</td>\n      <td>g</td>\n      <td>0.000</td>\n      <td>120</td>\n      <td>0.0</td>\n      <td>0</td>\n      <td>0</td>\n    </tr>\n    <tr>\n      <th>4</th>\n      <td>b</td>\n      <td>32.330000</td>\n      <td>0.000350</td>\n      <td>u</td>\n      <td>g</td>\n      <td>k</td>\n      <td>v</td>\n      <td>0.500</td>\n      <td>f</td>\n      <td>f</td>\n      <td>0</td>\n      <td>t</td>\n      <td>g</td>\n      <td>232.000</td>\n      <td>0</td>\n      <td>2320000.0</td>\n      <td>0</td>\n      <td>0</td>\n    </tr>\n    <tr>\n      <th>5</th>\n      <td>a</td>\n      <td>34.830000</td>\n      <td>0.000125</td>\n      <td>y</td>\n      <td>p</td>\n      <td>i</td>\n      <td>h</td>\n      <td>0.500</td>\n      <td>f</td>\n      <td>f</td>\n      <td>0</td>\n      <td>t</td>\n      <td>g</td>\n      <td>160.000</td>\n      <td>0</td>\n      <td>1600000.0</td>\n      <td>0</td>\n      <td>0</td>\n    </tr>\n    <tr>\n      <th>6</th>\n      <td>a</td>\n      <td>26.170000</td>\n      <td>0.000200</td>\n      <td>u</td>\n      <td>g</td>\n      <td>j</td>\n      <td>j</td>\n      <td>0.000</td>\n      <td>f</td>\n      <td>f</td>\n      <td>0</td>\n      <td>t</td>\n      <td>g</td>\n      <td>276.000</td>\n      <td>1</td>\n      <td>2760000.0</td>\n      <td>0</td>\n      <td>0</td>\n    </tr>\n    <tr>\n      <th>7</th>\n      <td>b</td>\n      <td>21.170000</td>\n      <td>0.000087</td>\n      <td>y</td>\n      <td>p</td>\n      <td>c</td>\n      <td>h</td>\n      <td>0.250</td>\n      <td>f</td>\n      <td>f</td>\n      <td>0</td>\n      <td>f</td>\n      <td>g</td>\n      <td>280.000</td>\n      <td>204</td>\n      <td>2800000.0</td>\n      <td>0</td>\n      <td>0</td>\n    </tr>\n    <tr>\n      <th>8</th>\n      <td>b</td>\n      <td>28.920000</td>\n      <td>0.000037</td>\n      <td>u</td>\n      <td>g</td>\n      <td>c</td>\n      <td>v</td>\n      <td>0.290</td>\n      <td>f</td>\n      <td>f</td>\n      <td>0</td>\n      <td>f</td>\n      <td>g</td>\n      <td>220.000</td>\n      <td>140</td>\n      <td>2200000.0</td>\n      <td>0</td>\n      <td>0</td>\n    </tr>\n    <tr>\n      <th>9</th>\n      <td>b</td>\n      <td>18.170000</td>\n      <td>0.001025</td>\n      <td>u</td>\n      <td>g</td>\n      <td>c</td>\n      <td>h</td>\n      <td>1.085</td>\n      <td>f</td>\n      <td>f</td>\n      <td>0</td>\n      <td>f</td>\n      <td>g</td>\n      <td>320.000</td>\n      <td>13</td>\n      <td>3200000.0</td>\n      <td>0</td>\n      <td>0</td>\n    </tr>\n    <tr>\n      <th>10</th>\n      <td>a</td>\n      <td>24.750000</td>\n      <td>0.001366</td>\n      <td>u</td>\n      <td>g</td>\n      <td>q</td>\n      <td>h</td>\n      <td>1.500</td>\n      <td>f</td>\n      <td>f</td>\n      <td>0</td>\n      <td>f</td>\n      <td>g</td>\n      <td>280.000</td>\n      <td>1</td>\n      <td>2800000.0</td>\n      <td>0</td>\n      <td>0</td>\n    </tr>\n    <tr>\n      <th>11</th>\n      <td>a</td>\n      <td>31.750000</td>\n      <td>0.000300</td>\n      <td>y</td>\n      <td>p</td>\n      <td>j</td>\n      <td>j</td>\n      <td>0.000</td>\n      <td>f</td>\n      <td>f</td>\n      <td>0</td>\n      <td>f</td>\n      <td>g</td>\n      <td>160.000</td>\n      <td>20</td>\n      <td>1600000.0</td>\n      <td>0</td>\n      <td>0</td>\n    </tr>\n    <tr>\n      <th>12</th>\n      <td>a</td>\n      <td>18.170000</td>\n      <td>0.001000</td>\n      <td>y</td>\n      <td>p</td>\n      <td>q</td>\n      <td>h</td>\n      <td>0.165</td>\n      <td>f</td>\n      <td>f</td>\n      <td>0</td>\n      <td>f</td>\n      <td>g</td>\n      <td>340.000</td>\n      <td>0</td>\n      <td>3400000.0</td>\n      <td>0</td>\n      <td>0</td>\n    </tr>\n    <tr>\n      <th>13</th>\n      <td>a</td>\n      <td>18.250000</td>\n      <td>0.001000</td>\n      <td>u</td>\n      <td>g</td>\n      <td>W</td>\n      <td>v</td>\n      <td>1.000</td>\n      <td>f</td>\n      <td>t</td>\n      <td>1</td>\n      <td>f</td>\n      <td>g</td>\n      <td>120.000</td>\n      <td>1</td>\n      <td>1200000.0</td>\n      <td>0</td>\n      <td>0</td>\n    </tr>\n    <tr>\n      <th>14</th>\n      <td>b</td>\n      <td>17.580000</td>\n      <td>0.001000</td>\n      <td>u</td>\n      <td>g</td>\n      <td>W</td>\n      <td>h</td>\n      <td>0.165</td>\n      <td>f</td>\n      <td>t</td>\n      <td>1</td>\n      <td>f</td>\n      <td>g</td>\n      <td>120.000</td>\n      <td>1</td>\n      <td>1200000.0</td>\n      <td>0</td>\n      <td>0</td>\n    </tr>\n    <tr>\n      <th>15</th>\n      <td>b</td>\n      <td>51.830000</td>\n      <td>0.000204</td>\n      <td>y</td>\n      <td>p</td>\n      <td>ff</td>\n      <td>ff</td>\n      <td>1.500</td>\n      <td>f</td>\n      <td>f</td>\n      <td>0</td>\n      <td>f</td>\n      <td>g</td>\n      <td>120.000</td>\n      <td>1</td>\n      <td>1200000.0</td>\n      <td>0</td>\n      <td>0</td>\n    </tr>\n    <tr>\n      <th>16</th>\n      <td>b</td>\n      <td>26.670000</td>\n      <td>0.001459</td>\n      <td>u</td>\n      <td>g</td>\n      <td>i</td>\n      <td>bb</td>\n      <td>0.000</td>\n      <td>f</td>\n      <td>f</td>\n      <td>0</td>\n      <td>t</td>\n      <td>g</td>\n      <td>178.000</td>\n      <td>0</td>\n      <td>1780000.0</td>\n      <td>0</td>\n      <td>0</td>\n    </tr>\n    <tr>\n      <th>17</th>\n      <td>b</td>\n      <td>31.420000</td>\n      <td>0.001550</td>\n      <td>u</td>\n      <td>g</td>\n      <td>c</td>\n      <td>v</td>\n      <td>0.500</td>\n      <td>t</td>\n      <td>f</td>\n      <td>0</td>\n      <td>f</td>\n      <td>g</td>\n      <td>120.000</td>\n      <td>0</td>\n      <td>1200000.0</td>\n      <td>0</td>\n      <td>0</td>\n    </tr>\n    <tr>\n      <th>18</th>\n      <td>b</td>\n      <td>25.670000</td>\n      <td>0.000325</td>\n      <td>u</td>\n      <td>g</td>\n      <td>c</td>\n      <td>h</td>\n      <td>2.290</td>\n      <td>f</td>\n      <td>t</td>\n      <td>1</td>\n      <td>t</td>\n      <td>g</td>\n      <td>416.000</td>\n      <td>21</td>\n      <td>4160000.0</td>\n      <td>0</td>\n      <td>0</td>\n    </tr>\n    <tr>\n      <th>19</th>\n      <td>b</td>\n      <td>33.750000</td>\n      <td>0.000275</td>\n      <td>u</td>\n      <td>g</td>\n      <td>i</td>\n      <td>bb</td>\n      <td>0.000</td>\n      <td>f</td>\n      <td>f</td>\n      <td>0</td>\n      <td>f</td>\n      <td>g</td>\n      <td>180.000</td>\n      <td>0</td>\n      <td>1800000.0</td>\n      <td>0</td>\n      <td>0</td>\n    </tr>\n    <tr>\n      <th>20</th>\n      <td>b</td>\n      <td>32.750000</td>\n      <td>0.000233</td>\n      <td>u</td>\n      <td>g</td>\n      <td>d</td>\n      <td>h</td>\n      <td>5.750</td>\n      <td>f</td>\n      <td>f</td>\n      <td>0</td>\n      <td>t</td>\n      <td>g</td>\n      <td>292.000</td>\n      <td>0</td>\n      <td>2920000.0</td>\n      <td>0</td>\n      <td>0</td>\n    </tr>\n    <tr>\n      <th>21</th>\n      <td>b</td>\n      <td>39.830000</td>\n      <td>0.000050</td>\n      <td>u</td>\n      <td>g</td>\n      <td>m</td>\n      <td>v</td>\n      <td>0.250</td>\n      <td>t</td>\n      <td>f</td>\n      <td>0</td>\n      <td>f</td>\n      <td>s</td>\n      <td>288.000</td>\n      <td>0</td>\n      <td>2880000.0</td>\n      <td>0</td>\n      <td>0</td>\n    </tr>\n    <tr>\n      <th>22</th>\n      <td>a</td>\n      <td>40.330000</td>\n      <td>0.000812</td>\n      <td>y</td>\n      <td>p</td>\n      <td>k</td>\n      <td>v</td>\n      <td>0.165</td>\n      <td>f</td>\n      <td>t</td>\n      <td>2</td>\n      <td>f</td>\n      <td>g</td>\n      <td>162.695</td>\n      <td>18</td>\n      <td>1626950.0</td>\n      <td>0</td>\n      <td>0</td>\n    </tr>\n    <tr>\n      <th>23</th>\n      <td>b</td>\n      <td>35.250000</td>\n      <td>0.001650</td>\n      <td>y</td>\n      <td>p</td>\n      <td>c</td>\n      <td>v</td>\n      <td>4.000</td>\n      <td>t</td>\n      <td>f</td>\n      <td>0</td>\n      <td>f</td>\n      <td>g</td>\n      <td>80.000</td>\n      <td>0</td>\n      <td>800000.0</td>\n      <td>0</td>\n      <td>0</td>\n    </tr>\n    <tr>\n      <th>24</th>\n      <td>a</td>\n      <td>24.330000</td>\n      <td>0.000250</td>\n      <td>y</td>\n      <td>p</td>\n      <td>i</td>\n      <td>bb</td>\n      <td>4.500</td>\n      <td>f</td>\n      <td>f</td>\n      <td>0</td>\n      <td>f</td>\n      <td>g</td>\n      <td>200.000</td>\n      <td>456</td>\n      <td>2000000.0</td>\n      <td>0</td>\n      <td>0</td>\n    </tr>\n    <tr>\n      <th>25</th>\n      <td>a</td>\n      <td>15.750000</td>\n      <td>0.000037</td>\n      <td>u</td>\n      <td>g</td>\n      <td>c</td>\n      <td>v</td>\n      <td>1.000</td>\n      <td>f</td>\n      <td>f</td>\n      <td>0</td>\n      <td>f</td>\n      <td>g</td>\n      <td>120.000</td>\n      <td>18</td>\n      <td>1200000.0</td>\n      <td>0</td>\n      <td>0</td>\n    </tr>\n    <tr>\n      <th>26</th>\n      <td>a</td>\n      <td>45.000000</td>\n      <td>0.000458</td>\n      <td>u</td>\n      <td>g</td>\n      <td>k</td>\n      <td>h</td>\n      <td>1.000</td>\n      <td>f</td>\n      <td>f</td>\n      <td>0</td>\n      <td>t</td>\n      <td>s</td>\n      <td>240.000</td>\n      <td>0</td>\n      <td>2400000.0</td>\n      <td>0</td>\n      <td>0</td>\n    </tr>\n    <tr>\n      <th>27</th>\n      <td>a</td>\n      <td>30.420000</td>\n      <td>0.000138</td>\n      <td>u</td>\n      <td>g</td>\n      <td>W</td>\n      <td>h</td>\n      <td>0.040</td>\n      <td>f</td>\n      <td>t</td>\n      <td>3</td>\n      <td>f</td>\n      <td>g</td>\n      <td>0.000</td>\n      <td>33</td>\n      <td>0.0</td>\n      <td>0</td>\n      <td>0</td>\n    </tr>\n    <tr>\n      <th>28</th>\n      <td>a</td>\n      <td>32.820713</td>\n      <td>0.000350</td>\n      <td>u</td>\n      <td>g</td>\n      <td>d</td>\n      <td>v</td>\n      <td>3.000</td>\n      <td>t</td>\n      <td>f</td>\n      <td>0</td>\n      <td>t</td>\n      <td>g</td>\n      <td>300.000</td>\n      <td>0</td>\n      <td>3000000.0</td>\n      <td>0</td>\n      <td>0</td>\n    </tr>\n    <tr>\n      <th>29</th>\n      <td>b</td>\n      <td>17.250000</td>\n      <td>0.000300</td>\n      <td>u</td>\n      <td>g</td>\n      <td>k</td>\n      <td>v</td>\n      <td>0.040</td>\n      <td>f</td>\n      <td>f</td>\n      <td>0</td>\n      <td>t</td>\n      <td>g</td>\n      <td>160.000</td>\n      <td>40</td>\n      <td>1600000.0</td>\n      <td>0</td>\n      <td>0</td>\n    </tr>\n    <tr>\n      <th>...</th>\n      <td>...</td>\n      <td>...</td>\n      <td>...</td>\n      <td>...</td>\n      <td>...</td>\n      <td>...</td>\n      <td>...</td>\n      <td>...</td>\n      <td>...</td>\n      <td>...</td>\n      <td>...</td>\n      <td>...</td>\n      <td>...</td>\n      <td>...</td>\n      <td>...</td>\n      <td>...</td>\n      <td>...</td>\n      <td>...</td>\n    </tr>\n    <tr>\n      <th>3670</th>\n      <td>a</td>\n      <td>24.500000</td>\n      <td>0.000050</td>\n      <td>u</td>\n      <td>g</td>\n      <td>q</td>\n      <td>h</td>\n      <td>1.500</td>\n      <td>t</td>\n      <td>f</td>\n      <td>0</td>\n      <td>f</td>\n      <td>g</td>\n      <td>280.000</td>\n      <td>824</td>\n      <td>2800000.0</td>\n      <td>1</td>\n      <td>1</td>\n    </tr>\n    <tr>\n      <th>3671</th>\n      <td>b</td>\n      <td>20.250000</td>\n      <td>0.000996</td>\n      <td>u</td>\n      <td>g</td>\n      <td>e</td>\n      <td>dd</td>\n      <td>0.000</td>\n      <td>t</td>\n      <td>f</td>\n      <td>0</td>\n      <td>f</td>\n      <td>g</td>\n      <td>0.000</td>\n      <td>0</td>\n      <td>0.0</td>\n      <td>1</td>\n      <td>1</td>\n    </tr>\n    <tr>\n      <th>3672</th>\n      <td>b</td>\n      <td>18.500000</td>\n      <td>0.000200</td>\n      <td>u</td>\n      <td>g</td>\n      <td>i</td>\n      <td>v</td>\n      <td>1.500</td>\n      <td>t</td>\n      <td>t</td>\n      <td>2</td>\n      <td>f</td>\n      <td>g</td>\n      <td>120.000</td>\n      <td>300</td>\n      <td>1200000.0</td>\n      <td>1</td>\n      <td>1</td>\n    </tr>\n    <tr>\n      <th>3673</th>\n      <td>b</td>\n      <td>25.170000</td>\n      <td>0.000350</td>\n      <td>u</td>\n      <td>g</td>\n      <td>cc</td>\n      <td>v</td>\n      <td>0.625</td>\n      <td>t</td>\n      <td>t</td>\n      <td>7</td>\n      <td>f</td>\n      <td>g</td>\n      <td>0.000</td>\n      <td>7059</td>\n      <td>0.0</td>\n      <td>1</td>\n      <td>1</td>\n    </tr>\n    <tr>\n      <th>3674</th>\n      <td>b</td>\n      <td>44.330000</td>\n      <td>0.000050</td>\n      <td>u</td>\n      <td>g</td>\n      <td>i</td>\n      <td>h</td>\n      <td>5.000</td>\n      <td>t</td>\n      <td>f</td>\n      <td>0</td>\n      <td>t</td>\n      <td>g</td>\n      <td>320.000</td>\n      <td>0</td>\n      <td>3200000.0</td>\n      <td>1</td>\n      <td>1</td>\n    </tr>\n    <tr>\n      <th>3675</th>\n      <td>b</td>\n      <td>18.080000</td>\n      <td>0.000550</td>\n      <td>u</td>\n      <td>g</td>\n      <td>k</td>\n      <td>v</td>\n      <td>0.500</td>\n      <td>t</td>\n      <td>f</td>\n      <td>0</td>\n      <td>f</td>\n      <td>g</td>\n      <td>80.000</td>\n      <td>0</td>\n      <td>800000.0</td>\n      <td>1</td>\n      <td>1</td>\n    </tr>\n    <tr>\n      <th>3676</th>\n      <td>a</td>\n      <td>60.580000</td>\n      <td>0.001650</td>\n      <td>u</td>\n      <td>g</td>\n      <td>q</td>\n      <td>v</td>\n      <td>11.000</td>\n      <td>t</td>\n      <td>f</td>\n      <td>0</td>\n      <td>t</td>\n      <td>g</td>\n      <td>21.000</td>\n      <td>10561</td>\n      <td>210000.0</td>\n      <td>1</td>\n      <td>1</td>\n    </tr>\n    <tr>\n      <th>3677</th>\n      <td>b</td>\n      <td>41.500000</td>\n      <td>0.000154</td>\n      <td>u</td>\n      <td>g</td>\n      <td>i</td>\n      <td>bb</td>\n      <td>3.500</td>\n      <td>f</td>\n      <td>f</td>\n      <td>0</td>\n      <td>f</td>\n      <td>g</td>\n      <td>216.000</td>\n      <td>0</td>\n      <td>2160000.0</td>\n      <td>1</td>\n      <td>1</td>\n    </tr>\n    <tr>\n      <th>3678</th>\n      <td>a</td>\n      <td>25.750000</td>\n      <td>0.000050</td>\n      <td>u</td>\n      <td>g</td>\n      <td>c</td>\n      <td>h</td>\n      <td>0.875</td>\n      <td>t</td>\n      <td>f</td>\n      <td>0</td>\n      <td>t</td>\n      <td>g</td>\n      <td>491.000</td>\n      <td>0</td>\n      <td>4910000.0</td>\n      <td>1</td>\n      <td>1</td>\n    </tr>\n    <tr>\n      <th>3679</th>\n      <td>b</td>\n      <td>29.250000</td>\n      <td>0.001479</td>\n      <td>u</td>\n      <td>g</td>\n      <td>aa</td>\n      <td>v</td>\n      <td>5.040</td>\n      <td>t</td>\n      <td>t</td>\n      <td>5</td>\n      <td>t</td>\n      <td>g</td>\n      <td>168.000</td>\n      <td>0</td>\n      <td>1680000.0</td>\n      <td>1</td>\n      <td>1</td>\n    </tr>\n    <tr>\n      <th>3680</th>\n      <td>a</td>\n      <td>36.000000</td>\n      <td>0.000100</td>\n      <td>u</td>\n      <td>g</td>\n      <td>c</td>\n      <td>v</td>\n      <td>2.000</td>\n      <td>t</td>\n      <td>t</td>\n      <td>11</td>\n      <td>f</td>\n      <td>g</td>\n      <td>0.000</td>\n      <td>456</td>\n      <td>0.0</td>\n      <td>1</td>\n      <td>1</td>\n    </tr>\n    <tr>\n      <th>3681</th>\n      <td>b</td>\n      <td>31.670000</td>\n      <td>0.001616</td>\n      <td>u</td>\n      <td>g</td>\n      <td>d</td>\n      <td>v</td>\n      <td>3.000</td>\n      <td>t</td>\n      <td>t</td>\n      <td>9</td>\n      <td>f</td>\n      <td>g</td>\n      <td>250.000</td>\n      <td>730</td>\n      <td>2500000.0</td>\n      <td>1</td>\n      <td>1</td>\n    </tr>\n    <tr>\n      <th>3682</th>\n      <td>b</td>\n      <td>60.080000</td>\n      <td>0.001450</td>\n      <td>u</td>\n      <td>g</td>\n      <td>ff</td>\n      <td>ff</td>\n      <td>18.000</td>\n      <td>t</td>\n      <td>t</td>\n      <td>15</td>\n      <td>t</td>\n      <td>g</td>\n      <td>0.000</td>\n      <td>1000</td>\n      <td>0.0</td>\n      <td>1</td>\n      <td>1</td>\n    </tr>\n    <tr>\n      <th>3683</th>\n      <td>b</td>\n      <td>22.330000</td>\n      <td>0.001100</td>\n      <td>u</td>\n      <td>g</td>\n      <td>W</td>\n      <td>v</td>\n      <td>2.000</td>\n      <td>t</td>\n      <td>t</td>\n      <td>1</td>\n      <td>f</td>\n      <td>g</td>\n      <td>80.000</td>\n      <td>278</td>\n      <td>800000.0</td>\n      <td>1</td>\n      <td>1</td>\n    </tr>\n    <tr>\n      <th>3684</th>\n      <td>b</td>\n      <td>40.000000</td>\n      <td>0.000650</td>\n      <td>u</td>\n      <td>g</td>\n      <td>aa</td>\n      <td>bb</td>\n      <td>3.500</td>\n      <td>t</td>\n      <td>t</td>\n      <td>1</td>\n      <td>f</td>\n      <td>g</td>\n      <td>0.000</td>\n      <td>500</td>\n      <td>0.0</td>\n      <td>1</td>\n      <td>1</td>\n    </tr>\n    <tr>\n      <th>3685</th>\n      <td>b</td>\n      <td>35.170000</td>\n      <td>0.002512</td>\n      <td>u</td>\n      <td>g</td>\n      <td>x</td>\n      <td>h</td>\n      <td>1.625</td>\n      <td>t</td>\n      <td>t</td>\n      <td>1</td>\n      <td>t</td>\n      <td>g</td>\n      <td>515.000</td>\n      <td>500</td>\n      <td>5150000.0</td>\n      <td>1</td>\n      <td>1</td>\n    </tr>\n    <tr>\n      <th>3686</th>\n      <td>b</td>\n      <td>41.330000</td>\n      <td>0.000000</td>\n      <td>u</td>\n      <td>g</td>\n      <td>c</td>\n      <td>bb</td>\n      <td>15.000</td>\n      <td>t</td>\n      <td>f</td>\n      <td>0</td>\n      <td>f</td>\n      <td>g</td>\n      <td>0.000</td>\n      <td>0</td>\n      <td>0.0</td>\n      <td>1</td>\n      <td>1</td>\n    </tr>\n    <tr>\n      <th>3687</th>\n      <td>a</td>\n      <td>20.750000</td>\n      <td>0.001034</td>\n      <td>u</td>\n      <td>g</td>\n      <td>cc</td>\n      <td>h</td>\n      <td>0.335</td>\n      <td>t</td>\n      <td>t</td>\n      <td>1</td>\n      <td>t</td>\n      <td>g</td>\n      <td>80.000</td>\n      <td>50</td>\n      <td>800000.0</td>\n      <td>1</td>\n      <td>1</td>\n    </tr>\n    <tr>\n      <th>3688</th>\n      <td>b</td>\n      <td>32.080000</td>\n      <td>0.000400</td>\n      <td>u</td>\n      <td>g</td>\n      <td>m</td>\n      <td>v</td>\n      <td>2.500</td>\n      <td>t</td>\n      <td>f</td>\n      <td>0</td>\n      <td>t</td>\n      <td>g</td>\n      <td>360.000</td>\n      <td>0</td>\n      <td>3600000.0</td>\n      <td>1</td>\n      <td>1</td>\n    </tr>\n    <tr>\n      <th>3689</th>\n      <td>b</td>\n      <td>32.820713</td>\n      <td>0.000400</td>\n      <td>u</td>\n      <td>g</td>\n      <td>x</td>\n      <td>v</td>\n      <td>5.000</td>\n      <td>t</td>\n      <td>t</td>\n      <td>3</td>\n      <td>t</td>\n      <td>g</td>\n      <td>290.000</td>\n      <td>2279</td>\n      <td>2900000.0</td>\n      <td>1</td>\n      <td>1</td>\n    </tr>\n    <tr>\n      <th>3690</th>\n      <td>b</td>\n      <td>23.920000</td>\n      <td>0.000150</td>\n      <td>u</td>\n      <td>g</td>\n      <td>d</td>\n      <td>h</td>\n      <td>1.875</td>\n      <td>t</td>\n      <td>t</td>\n      <td>6</td>\n      <td>f</td>\n      <td>g</td>\n      <td>200.000</td>\n      <td>327</td>\n      <td>2000000.0</td>\n      <td>1</td>\n      <td>1</td>\n    </tr>\n    <tr>\n      <th>3691</th>\n      <td>a</td>\n      <td>23.250000</td>\n      <td>0.000588</td>\n      <td>u</td>\n      <td>g</td>\n      <td>q</td>\n      <td>v</td>\n      <td>3.170</td>\n      <td>t</td>\n      <td>t</td>\n      <td>10</td>\n      <td>f</td>\n      <td>g</td>\n      <td>120.000</td>\n      <td>245</td>\n      <td>1200000.0</td>\n      <td>1</td>\n      <td>1</td>\n    </tr>\n    <tr>\n      <th>3692</th>\n      <td>a</td>\n      <td>46.670000</td>\n      <td>0.000046</td>\n      <td>u</td>\n      <td>g</td>\n      <td>cc</td>\n      <td>h</td>\n      <td>0.415</td>\n      <td>t</td>\n      <td>t</td>\n      <td>11</td>\n      <td>t</td>\n      <td>g</td>\n      <td>440.000</td>\n      <td>6</td>\n      <td>4400000.0</td>\n      <td>1</td>\n      <td>1</td>\n    </tr>\n    <tr>\n      <th>3693</th>\n      <td>a</td>\n      <td>25.000000</td>\n      <td>0.001233</td>\n      <td>u</td>\n      <td>g</td>\n      <td>cc</td>\n      <td>h</td>\n      <td>3.500</td>\n      <td>t</td>\n      <td>t</td>\n      <td>6</td>\n      <td>f</td>\n      <td>g</td>\n      <td>400.000</td>\n      <td>458</td>\n      <td>4000000.0</td>\n      <td>1</td>\n      <td>1</td>\n    </tr>\n    <tr>\n      <th>3694</th>\n      <td>b</td>\n      <td>25.500000</td>\n      <td>0.000037</td>\n      <td>u</td>\n      <td>g</td>\n      <td>m</td>\n      <td>v</td>\n      <td>0.250</td>\n      <td>t</td>\n      <td>t</td>\n      <td>3</td>\n      <td>f</td>\n      <td>g</td>\n      <td>260.000</td>\n      <td>15108</td>\n      <td>2600000.0</td>\n      <td>1</td>\n      <td>1</td>\n    </tr>\n    <tr>\n      <th>3695</th>\n      <td>a</td>\n      <td>18.750000</td>\n      <td>0.000750</td>\n      <td>u</td>\n      <td>g</td>\n      <td>q</td>\n      <td>v</td>\n      <td>2.710</td>\n      <td>t</td>\n      <td>t</td>\n      <td>5</td>\n      <td>f</td>\n      <td>g</td>\n      <td>162.695</td>\n      <td>26726</td>\n      <td>1626950.0</td>\n      <td>1</td>\n      <td>1</td>\n    </tr>\n    <tr>\n      <th>3696</th>\n      <td>a</td>\n      <td>23.500000</td>\n      <td>0.000900</td>\n      <td>u</td>\n      <td>g</td>\n      <td>q</td>\n      <td>v</td>\n      <td>8.500</td>\n      <td>t</td>\n      <td>t</td>\n      <td>5</td>\n      <td>t</td>\n      <td>g</td>\n      <td>120.000</td>\n      <td>0</td>\n      <td>1200000.0</td>\n      <td>1</td>\n      <td>1</td>\n    </tr>\n    <tr>\n      <th>3697</th>\n      <td>b</td>\n      <td>34.170000</td>\n      <td>0.000917</td>\n      <td>u</td>\n      <td>g</td>\n      <td>c</td>\n      <td>v</td>\n      <td>4.500</td>\n      <td>t</td>\n      <td>t</td>\n      <td>12</td>\n      <td>t</td>\n      <td>g</td>\n      <td>0.000</td>\n      <td>221</td>\n      <td>0.0</td>\n      <td>1</td>\n      <td>1</td>\n    </tr>\n    <tr>\n      <th>3698</th>\n      <td>b</td>\n      <td>27.830000</td>\n      <td>0.000154</td>\n      <td>u</td>\n      <td>g</td>\n      <td>W</td>\n      <td>v</td>\n      <td>3.750</td>\n      <td>t</td>\n      <td>t</td>\n      <td>5</td>\n      <td>t</td>\n      <td>g</td>\n      <td>100.000</td>\n      <td>3</td>\n      <td>1000000.0</td>\n      <td>1</td>\n      <td>1</td>\n    </tr>\n    <tr>\n      <th>3699</th>\n      <td>a</td>\n      <td>36.750000</td>\n      <td>0.000513</td>\n      <td>u</td>\n      <td>g</td>\n      <td>e</td>\n      <td>v</td>\n      <td>5.000</td>\n      <td>t</td>\n      <td>f</td>\n      <td>0</td>\n      <td>t</td>\n      <td>g</td>\n      <td>0.000</td>\n      <td>4000</td>\n      <td>0.0</td>\n      <td>1</td>\n      <td>1</td>\n    </tr>\n  </tbody>\n</table>\n<p>3700 rows × 18 columns</p>\n</div>"
     },
     "metadata": {},
     "execution_count": 9
    }
   ],
   "source": [
    "variable1 = df['variable1'].value_counts().idxmax()\n",
    "variable4 = df['variable4'].value_counts().idxmax()\n",
    "variable5 = df['variable5'].value_counts().idxmax()\n",
    "variable6 = df['variable6'].value_counts().idxmax()\n",
    "variable7 = df['variable7'].value_counts().idxmax()\n",
    "\n",
    "df['variable1'].fillna(variable1, inplace=True)\n",
    "df['variable4'].fillna(variable4, inplace=True)\n",
    "df['variable5'].fillna(variable5, inplace=True)\n",
    "df['variable6'].fillna(variable6, inplace=True)\n",
    "df['variable7'].fillna(variable7, inplace=True)\n",
    "\n",
    "df['variable2'].fillna(df['variable2'].mean(), inplace=True)\n",
    "df['variable14'].fillna(df['variable14'].mean(), inplace=True)\n",
    "df['variable17'].fillna(df['variable17'].mean(), inplace=True)\n",
    "\n",
    "df"
   ]
  },
  {
   "cell_type": "code",
   "execution_count": 10,
   "metadata": {},
   "outputs": [
    {
     "output_type": "execute_result",
     "data": {
      "text/plain": "  variable1  variable2  variable3 variable4 variable5 variable6 variable7  \\\n0         b      32.33   0.000750         u         g         e        bb   \n1         b      23.58   0.000179         u         g         c         v   \n2         b      36.42   0.000075         y         p         d         v   \n3         b      18.42   0.001041         y         p        aa         v   \n4         b      24.50   0.001334         y         p        aa         v   \n\n   variable8 variable9 variable10  variable11 variable12 variable13  \\\n0      1.585         t          f           0          t          s   \n1      0.540         f          f           0          t          g   \n2      0.585         f          f           0          f          g   \n3      0.125         t          f           0          f          g   \n4      0.040         f          f           0          t          g   \n\n   variable14  variable15  variable17  variable19  Target Class  \n0       420.0           0   4200000.0           1             0  \n1       136.0           1   1360000.0           0             0  \n2       240.0           3   2400000.0           1             0  \n3       120.0         375   1200000.0           0             0  \n4       120.0         475   1200000.0           1             0  ",
      "text/html": "<div>\n<style scoped>\n    .dataframe tbody tr th:only-of-type {\n        vertical-align: middle;\n    }\n\n    .dataframe tbody tr th {\n        vertical-align: top;\n    }\n\n    .dataframe thead th {\n        text-align: right;\n    }\n</style>\n<table border=\"1\" class=\"dataframe\">\n  <thead>\n    <tr style=\"text-align: right;\">\n      <th></th>\n      <th>variable1</th>\n      <th>variable2</th>\n      <th>variable3</th>\n      <th>variable4</th>\n      <th>variable5</th>\n      <th>variable6</th>\n      <th>variable7</th>\n      <th>variable8</th>\n      <th>variable9</th>\n      <th>variable10</th>\n      <th>variable11</th>\n      <th>variable12</th>\n      <th>variable13</th>\n      <th>variable14</th>\n      <th>variable15</th>\n      <th>variable17</th>\n      <th>variable19</th>\n      <th>Target Class</th>\n    </tr>\n  </thead>\n  <tbody>\n    <tr>\n      <th>0</th>\n      <td>b</td>\n      <td>32.33</td>\n      <td>0.000750</td>\n      <td>u</td>\n      <td>g</td>\n      <td>e</td>\n      <td>bb</td>\n      <td>1.585</td>\n      <td>t</td>\n      <td>f</td>\n      <td>0</td>\n      <td>t</td>\n      <td>s</td>\n      <td>420.0</td>\n      <td>0</td>\n      <td>4200000.0</td>\n      <td>1</td>\n      <td>0</td>\n    </tr>\n    <tr>\n      <th>1</th>\n      <td>b</td>\n      <td>23.58</td>\n      <td>0.000179</td>\n      <td>u</td>\n      <td>g</td>\n      <td>c</td>\n      <td>v</td>\n      <td>0.540</td>\n      <td>f</td>\n      <td>f</td>\n      <td>0</td>\n      <td>t</td>\n      <td>g</td>\n      <td>136.0</td>\n      <td>1</td>\n      <td>1360000.0</td>\n      <td>0</td>\n      <td>0</td>\n    </tr>\n    <tr>\n      <th>2</th>\n      <td>b</td>\n      <td>36.42</td>\n      <td>0.000075</td>\n      <td>y</td>\n      <td>p</td>\n      <td>d</td>\n      <td>v</td>\n      <td>0.585</td>\n      <td>f</td>\n      <td>f</td>\n      <td>0</td>\n      <td>f</td>\n      <td>g</td>\n      <td>240.0</td>\n      <td>3</td>\n      <td>2400000.0</td>\n      <td>1</td>\n      <td>0</td>\n    </tr>\n    <tr>\n      <th>3</th>\n      <td>b</td>\n      <td>18.42</td>\n      <td>0.001041</td>\n      <td>y</td>\n      <td>p</td>\n      <td>aa</td>\n      <td>v</td>\n      <td>0.125</td>\n      <td>t</td>\n      <td>f</td>\n      <td>0</td>\n      <td>f</td>\n      <td>g</td>\n      <td>120.0</td>\n      <td>375</td>\n      <td>1200000.0</td>\n      <td>0</td>\n      <td>0</td>\n    </tr>\n    <tr>\n      <th>4</th>\n      <td>b</td>\n      <td>24.50</td>\n      <td>0.001334</td>\n      <td>y</td>\n      <td>p</td>\n      <td>aa</td>\n      <td>v</td>\n      <td>0.040</td>\n      <td>f</td>\n      <td>f</td>\n      <td>0</td>\n      <td>t</td>\n      <td>g</td>\n      <td>120.0</td>\n      <td>475</td>\n      <td>1200000.0</td>\n      <td>1</td>\n      <td>0</td>\n    </tr>\n  </tbody>\n</table>\n</div>"
     },
     "metadata": {},
     "execution_count": 10
    }
   ],
   "source": [
    "variable1 = validation['variable1'].value_counts().idxmax()\n",
    "variable4 = validation['variable4'].value_counts().idxmax()\n",
    "variable5 = validation['variable5'].value_counts().idxmax()\n",
    "variable6 = validation['variable6'].value_counts().idxmax()\n",
    "variable7 = validation['variable7'].value_counts().idxmax()\n",
    "\n",
    "validation['variable1'].fillna(variable1, inplace=True)\n",
    "validation['variable4'].fillna(variable4, inplace=True)\n",
    "validation['variable5'].fillna(variable5, inplace=True)\n",
    "validation['variable6'].fillna(variable6, inplace=True)\n",
    "validation['variable7'].fillna(variable7, inplace=True)\n",
    "\n",
    "validation['variable2'].fillna(df['variable2'].mean(), inplace=True)\n",
    "validation['variable14'].fillna(df['variable14'].mean(), inplace=True)\n",
    "validation['variable17'].fillna(df['variable17'].mean(), inplace=True)\n",
    "\n",
    "validation.head()"
   ]
  },
  {
   "cell_type": "code",
   "execution_count": 11,
   "metadata": {},
   "outputs": [
    {
     "output_type": "execute_result",
     "data": {
      "text/plain": "variable1       0\nvariable2       0\nvariable3       0\nvariable4       0\nvariable5       0\nvariable6       0\nvariable7       0\nvariable8       0\nvariable9       0\nvariable10      0\nvariable11      0\nvariable12      0\nvariable13      0\nvariable14      0\nvariable15      0\nvariable17      0\nvariable19      0\nTarget Class    0\ndtype: int64"
     },
     "metadata": {},
     "execution_count": 11
    }
   ],
   "source": [
    "df.isnull().sum()"
   ]
  },
  {
   "cell_type": "code",
   "execution_count": 12,
   "metadata": {},
   "outputs": [
    {
     "output_type": "execute_result",
     "data": {
      "text/plain": "  variable1  variable2  variable3 variable4 variable5 variable6 variable7  \\\n0         a      17.92   0.000054         u         g         c         v   \n1         b      16.92   0.000034         y         p         k         v   \n2         b      31.25   0.000112         u         g        ff        ff   \n3         a      48.17   0.000133         u         g         i         o   \n4         b      32.33   0.000350         u         g         k         v   \n\n   variable8 variable9 variable10  variable11 variable12 variable13  \\\n0      1.750         f          t           1          t          g   \n1      0.290         f          f           0          f          s   \n2      0.000         f          t           1          f          g   \n3      0.335         f          f           0          f          g   \n4      0.500         f          f           0          t          g   \n\n   variable14  variable15  variable17  variable19  Target Class  \n0        80.0           5    800000.0           0             0  \n1       200.0           0   2000000.0           0             0  \n2        96.0          19    960000.0           0             0  \n3         0.0         120         0.0           0             0  \n4       232.0           0   2320000.0           0             0  ",
      "text/html": "<div>\n<style scoped>\n    .dataframe tbody tr th:only-of-type {\n        vertical-align: middle;\n    }\n\n    .dataframe tbody tr th {\n        vertical-align: top;\n    }\n\n    .dataframe thead th {\n        text-align: right;\n    }\n</style>\n<table border=\"1\" class=\"dataframe\">\n  <thead>\n    <tr style=\"text-align: right;\">\n      <th></th>\n      <th>variable1</th>\n      <th>variable2</th>\n      <th>variable3</th>\n      <th>variable4</th>\n      <th>variable5</th>\n      <th>variable6</th>\n      <th>variable7</th>\n      <th>variable8</th>\n      <th>variable9</th>\n      <th>variable10</th>\n      <th>variable11</th>\n      <th>variable12</th>\n      <th>variable13</th>\n      <th>variable14</th>\n      <th>variable15</th>\n      <th>variable17</th>\n      <th>variable19</th>\n      <th>Target Class</th>\n    </tr>\n  </thead>\n  <tbody>\n    <tr>\n      <th>0</th>\n      <td>a</td>\n      <td>17.92</td>\n      <td>0.000054</td>\n      <td>u</td>\n      <td>g</td>\n      <td>c</td>\n      <td>v</td>\n      <td>1.750</td>\n      <td>f</td>\n      <td>t</td>\n      <td>1</td>\n      <td>t</td>\n      <td>g</td>\n      <td>80.0</td>\n      <td>5</td>\n      <td>800000.0</td>\n      <td>0</td>\n      <td>0</td>\n    </tr>\n    <tr>\n      <th>1</th>\n      <td>b</td>\n      <td>16.92</td>\n      <td>0.000034</td>\n      <td>y</td>\n      <td>p</td>\n      <td>k</td>\n      <td>v</td>\n      <td>0.290</td>\n      <td>f</td>\n      <td>f</td>\n      <td>0</td>\n      <td>f</td>\n      <td>s</td>\n      <td>200.0</td>\n      <td>0</td>\n      <td>2000000.0</td>\n      <td>0</td>\n      <td>0</td>\n    </tr>\n    <tr>\n      <th>2</th>\n      <td>b</td>\n      <td>31.25</td>\n      <td>0.000112</td>\n      <td>u</td>\n      <td>g</td>\n      <td>ff</td>\n      <td>ff</td>\n      <td>0.000</td>\n      <td>f</td>\n      <td>t</td>\n      <td>1</td>\n      <td>f</td>\n      <td>g</td>\n      <td>96.0</td>\n      <td>19</td>\n      <td>960000.0</td>\n      <td>0</td>\n      <td>0</td>\n    </tr>\n    <tr>\n      <th>3</th>\n      <td>a</td>\n      <td>48.17</td>\n      <td>0.000133</td>\n      <td>u</td>\n      <td>g</td>\n      <td>i</td>\n      <td>o</td>\n      <td>0.335</td>\n      <td>f</td>\n      <td>f</td>\n      <td>0</td>\n      <td>f</td>\n      <td>g</td>\n      <td>0.0</td>\n      <td>120</td>\n      <td>0.0</td>\n      <td>0</td>\n      <td>0</td>\n    </tr>\n    <tr>\n      <th>4</th>\n      <td>b</td>\n      <td>32.33</td>\n      <td>0.000350</td>\n      <td>u</td>\n      <td>g</td>\n      <td>k</td>\n      <td>v</td>\n      <td>0.500</td>\n      <td>f</td>\n      <td>f</td>\n      <td>0</td>\n      <td>t</td>\n      <td>g</td>\n      <td>232.0</td>\n      <td>0</td>\n      <td>2320000.0</td>\n      <td>0</td>\n      <td>0</td>\n    </tr>\n  </tbody>\n</table>\n</div>"
     },
     "metadata": {},
     "execution_count": 12
    }
   ],
   "source": [
    "df.head()"
   ]
  },
  {
   "cell_type": "code",
   "execution_count": 13,
   "metadata": {},
   "outputs": [
    {
     "output_type": "execute_result",
     "data": {
      "text/plain": "  variable1  variable2  variable3 variable4 variable5 variable6 variable7  \\\n0         a   0.062707   0.019286         u         g         c         v   \n1         b   0.047669   0.011964         y         p         k         v   \n2         b   0.263158   0.040179         u         g        ff        ff   \n3         a   0.517594   0.047679         u         g         i         o   \n4         b   0.279398   0.125000         u         g         k         v   \n\n   variable8 variable9 variable10  variable11 variable12 variable13  \\\n0   0.061404         f          t           1          t          g   \n1   0.010175         f          f           0          f          s   \n2   0.000000         f          t           1          f          g   \n3   0.011754         f          f           0          f          g   \n4   0.017544         f          f           0          t          g   \n\n   variable14  variable15  variable17  variable19  Target Class  \n0    0.068966     0.00005    0.068966         0.0             0  \n1    0.172414     0.00000    0.172414         0.0             0  \n2    0.082759     0.00019    0.082759         0.0             0  \n3    0.000000     0.00120    0.000000         0.0             0  \n4    0.200000     0.00000    0.200000         0.0             0  ",
      "text/html": "<div>\n<style scoped>\n    .dataframe tbody tr th:only-of-type {\n        vertical-align: middle;\n    }\n\n    .dataframe tbody tr th {\n        vertical-align: top;\n    }\n\n    .dataframe thead th {\n        text-align: right;\n    }\n</style>\n<table border=\"1\" class=\"dataframe\">\n  <thead>\n    <tr style=\"text-align: right;\">\n      <th></th>\n      <th>variable1</th>\n      <th>variable2</th>\n      <th>variable3</th>\n      <th>variable4</th>\n      <th>variable5</th>\n      <th>variable6</th>\n      <th>variable7</th>\n      <th>variable8</th>\n      <th>variable9</th>\n      <th>variable10</th>\n      <th>variable11</th>\n      <th>variable12</th>\n      <th>variable13</th>\n      <th>variable14</th>\n      <th>variable15</th>\n      <th>variable17</th>\n      <th>variable19</th>\n      <th>Target Class</th>\n    </tr>\n  </thead>\n  <tbody>\n    <tr>\n      <th>0</th>\n      <td>a</td>\n      <td>0.062707</td>\n      <td>0.019286</td>\n      <td>u</td>\n      <td>g</td>\n      <td>c</td>\n      <td>v</td>\n      <td>0.061404</td>\n      <td>f</td>\n      <td>t</td>\n      <td>1</td>\n      <td>t</td>\n      <td>g</td>\n      <td>0.068966</td>\n      <td>0.00005</td>\n      <td>0.068966</td>\n      <td>0.0</td>\n      <td>0</td>\n    </tr>\n    <tr>\n      <th>1</th>\n      <td>b</td>\n      <td>0.047669</td>\n      <td>0.011964</td>\n      <td>y</td>\n      <td>p</td>\n      <td>k</td>\n      <td>v</td>\n      <td>0.010175</td>\n      <td>f</td>\n      <td>f</td>\n      <td>0</td>\n      <td>f</td>\n      <td>s</td>\n      <td>0.172414</td>\n      <td>0.00000</td>\n      <td>0.172414</td>\n      <td>0.0</td>\n      <td>0</td>\n    </tr>\n    <tr>\n      <th>2</th>\n      <td>b</td>\n      <td>0.263158</td>\n      <td>0.040179</td>\n      <td>u</td>\n      <td>g</td>\n      <td>ff</td>\n      <td>ff</td>\n      <td>0.000000</td>\n      <td>f</td>\n      <td>t</td>\n      <td>1</td>\n      <td>f</td>\n      <td>g</td>\n      <td>0.082759</td>\n      <td>0.00019</td>\n      <td>0.082759</td>\n      <td>0.0</td>\n      <td>0</td>\n    </tr>\n    <tr>\n      <th>3</th>\n      <td>a</td>\n      <td>0.517594</td>\n      <td>0.047679</td>\n      <td>u</td>\n      <td>g</td>\n      <td>i</td>\n      <td>o</td>\n      <td>0.011754</td>\n      <td>f</td>\n      <td>f</td>\n      <td>0</td>\n      <td>f</td>\n      <td>g</td>\n      <td>0.000000</td>\n      <td>0.00120</td>\n      <td>0.000000</td>\n      <td>0.0</td>\n      <td>0</td>\n    </tr>\n    <tr>\n      <th>4</th>\n      <td>b</td>\n      <td>0.279398</td>\n      <td>0.125000</td>\n      <td>u</td>\n      <td>g</td>\n      <td>k</td>\n      <td>v</td>\n      <td>0.017544</td>\n      <td>f</td>\n      <td>f</td>\n      <td>0</td>\n      <td>t</td>\n      <td>g</td>\n      <td>0.200000</td>\n      <td>0.00000</td>\n      <td>0.200000</td>\n      <td>0.0</td>\n      <td>0</td>\n    </tr>\n  </tbody>\n</table>\n</div>"
     },
     "metadata": {},
     "execution_count": 13
    }
   ],
   "source": [
    "# Normalizing the data \n",
    "from sklearn import preprocessing \n",
    "\n",
    "columns_values = df[['variable2', 'variable3', 'variable8', 'variable14', 'variable15','variable17','variable19']].values \n",
    "\n",
    "min_max_scaler = preprocessing.MinMaxScaler()\n",
    "columns_values_scaled = min_max_scaler.fit_transform(columns_values)\n",
    "df[['variable2', 'variable3', 'variable8', 'variable14', 'variable15','variable17','variable19']] =   pd.DataFrame(columns_values_scaled, columns=['variable2', 'variable3', 'variable8', 'variable14', 'variable15','variable17','variable19'])\n",
    "\n",
    "df.head()\n"
   ]
  },
  {
   "cell_type": "code",
   "execution_count": 14,
   "metadata": {},
   "outputs": [
    {
     "output_type": "execute_result",
     "data": {
      "text/plain": "  variable1  variable2  variable3 variable4 variable5 variable6 variable7  \\\n0         b   0.269768   0.298983         u         g         e        bb   \n1         b   0.125925   0.071357         u         g         c         v   \n2         b   0.337005   0.029898         y         p         d         v   \n3         b   0.041098   0.415188         y         p        aa         v   \n4         b   0.141049   0.531593         y         p        aa         v   \n\n   variable8 variable9 variable10  variable11 variable12 variable13  \\\n0    0.07925         t          f           0          t          s   \n1    0.02700         f          f           0          t          g   \n2    0.02925         f          f           0          f          g   \n3    0.00625         t          f           0          f          g   \n4    0.00200         f          f           0          t          g   \n\n   variable14  variable15  variable17  variable19  Target Class  \n0       0.210      0.0000       0.210         1.0             0  \n1       0.068      0.0001       0.068         0.0             0  \n2       0.120      0.0003       0.120         1.0             0  \n3       0.060      0.0375       0.060         0.0             0  \n4       0.060      0.0475       0.060         1.0             0  ",
      "text/html": "<div>\n<style scoped>\n    .dataframe tbody tr th:only-of-type {\n        vertical-align: middle;\n    }\n\n    .dataframe tbody tr th {\n        vertical-align: top;\n    }\n\n    .dataframe thead th {\n        text-align: right;\n    }\n</style>\n<table border=\"1\" class=\"dataframe\">\n  <thead>\n    <tr style=\"text-align: right;\">\n      <th></th>\n      <th>variable1</th>\n      <th>variable2</th>\n      <th>variable3</th>\n      <th>variable4</th>\n      <th>variable5</th>\n      <th>variable6</th>\n      <th>variable7</th>\n      <th>variable8</th>\n      <th>variable9</th>\n      <th>variable10</th>\n      <th>variable11</th>\n      <th>variable12</th>\n      <th>variable13</th>\n      <th>variable14</th>\n      <th>variable15</th>\n      <th>variable17</th>\n      <th>variable19</th>\n      <th>Target Class</th>\n    </tr>\n  </thead>\n  <tbody>\n    <tr>\n      <th>0</th>\n      <td>b</td>\n      <td>0.269768</td>\n      <td>0.298983</td>\n      <td>u</td>\n      <td>g</td>\n      <td>e</td>\n      <td>bb</td>\n      <td>0.07925</td>\n      <td>t</td>\n      <td>f</td>\n      <td>0</td>\n      <td>t</td>\n      <td>s</td>\n      <td>0.210</td>\n      <td>0.0000</td>\n      <td>0.210</td>\n      <td>1.0</td>\n      <td>0</td>\n    </tr>\n    <tr>\n      <th>1</th>\n      <td>b</td>\n      <td>0.125925</td>\n      <td>0.071357</td>\n      <td>u</td>\n      <td>g</td>\n      <td>c</td>\n      <td>v</td>\n      <td>0.02700</td>\n      <td>f</td>\n      <td>f</td>\n      <td>0</td>\n      <td>t</td>\n      <td>g</td>\n      <td>0.068</td>\n      <td>0.0001</td>\n      <td>0.068</td>\n      <td>0.0</td>\n      <td>0</td>\n    </tr>\n    <tr>\n      <th>2</th>\n      <td>b</td>\n      <td>0.337005</td>\n      <td>0.029898</td>\n      <td>y</td>\n      <td>p</td>\n      <td>d</td>\n      <td>v</td>\n      <td>0.02925</td>\n      <td>f</td>\n      <td>f</td>\n      <td>0</td>\n      <td>f</td>\n      <td>g</td>\n      <td>0.120</td>\n      <td>0.0003</td>\n      <td>0.120</td>\n      <td>1.0</td>\n      <td>0</td>\n    </tr>\n    <tr>\n      <th>3</th>\n      <td>b</td>\n      <td>0.041098</td>\n      <td>0.415188</td>\n      <td>y</td>\n      <td>p</td>\n      <td>aa</td>\n      <td>v</td>\n      <td>0.00625</td>\n      <td>t</td>\n      <td>f</td>\n      <td>0</td>\n      <td>f</td>\n      <td>g</td>\n      <td>0.060</td>\n      <td>0.0375</td>\n      <td>0.060</td>\n      <td>0.0</td>\n      <td>0</td>\n    </tr>\n    <tr>\n      <th>4</th>\n      <td>b</td>\n      <td>0.141049</td>\n      <td>0.531593</td>\n      <td>y</td>\n      <td>p</td>\n      <td>aa</td>\n      <td>v</td>\n      <td>0.00200</td>\n      <td>f</td>\n      <td>f</td>\n      <td>0</td>\n      <td>t</td>\n      <td>g</td>\n      <td>0.060</td>\n      <td>0.0475</td>\n      <td>0.060</td>\n      <td>1.0</td>\n      <td>0</td>\n    </tr>\n  </tbody>\n</table>\n</div>"
     },
     "metadata": {},
     "execution_count": 14
    }
   ],
   "source": [
    "columns_values = validation[['variable2', 'variable3', 'variable8', 'variable14', 'variable15','variable17','variable19']].values \n",
    "\n",
    "min_max_scaler = preprocessing.MinMaxScaler()\n",
    "columns_values_scaled = min_max_scaler.fit_transform(columns_values)\n",
    "validation[['variable2', 'variable3', 'variable8', 'variable14', 'variable15','variable17','variable19']] =   pd.DataFrame(columns_values_scaled, columns=['variable2', 'variable3', 'variable8', 'variable14', 'variable15','variable17','variable19'])\n",
    "\n",
    "validation.head()"
   ]
  },
  {
   "cell_type": "code",
   "execution_count": 15,
   "metadata": {},
   "outputs": [
    {
     "output_type": "execute_result",
     "data": {
      "text/plain": "   variable2  variable3  variable8  variable11  variable14  variable15  \\\n0   0.062707   0.019286   0.061404           1    0.068966     0.00005   \n1   0.047669   0.011964   0.010175           0    0.172414     0.00000   \n2   0.263158   0.040179   0.000000           1    0.082759     0.00019   \n3   0.517594   0.047679   0.011754           0    0.000000     0.00120   \n4   0.279398   0.125000   0.017544           0    0.200000     0.00000   \n\n   variable17  variable19  Target Class  variable1_a  ...  variable7_z  \\\n0    0.068966         0.0             0            1  ...            0   \n1    0.172414         0.0             0            0  ...            0   \n2    0.082759         0.0             0            0  ...            0   \n3    0.000000         0.0             0            1  ...            0   \n4    0.200000         0.0             0            0  ...            0   \n\n   variable9_f  variable9_t  variable10_f  variable10_t  variable12_f  \\\n0            1            0             0             1             0   \n1            1            0             1             0             1   \n2            1            0             0             1             1   \n3            1            0             1             0             1   \n4            1            0             1             0             0   \n\n   variable12_t  variable13_g  variable13_p  variable13_s  \n0             1             1             0             0  \n1             0             0             0             1  \n2             0             1             0             0  \n3             0             1             0             0  \n4             1             1             0             0  \n\n[5 rows x 49 columns]",
      "text/html": "<div>\n<style scoped>\n    .dataframe tbody tr th:only-of-type {\n        vertical-align: middle;\n    }\n\n    .dataframe tbody tr th {\n        vertical-align: top;\n    }\n\n    .dataframe thead th {\n        text-align: right;\n    }\n</style>\n<table border=\"1\" class=\"dataframe\">\n  <thead>\n    <tr style=\"text-align: right;\">\n      <th></th>\n      <th>variable2</th>\n      <th>variable3</th>\n      <th>variable8</th>\n      <th>variable11</th>\n      <th>variable14</th>\n      <th>variable15</th>\n      <th>variable17</th>\n      <th>variable19</th>\n      <th>Target Class</th>\n      <th>variable1_a</th>\n      <th>...</th>\n      <th>variable7_z</th>\n      <th>variable9_f</th>\n      <th>variable9_t</th>\n      <th>variable10_f</th>\n      <th>variable10_t</th>\n      <th>variable12_f</th>\n      <th>variable12_t</th>\n      <th>variable13_g</th>\n      <th>variable13_p</th>\n      <th>variable13_s</th>\n    </tr>\n  </thead>\n  <tbody>\n    <tr>\n      <th>0</th>\n      <td>0.062707</td>\n      <td>0.019286</td>\n      <td>0.061404</td>\n      <td>1</td>\n      <td>0.068966</td>\n      <td>0.00005</td>\n      <td>0.068966</td>\n      <td>0.0</td>\n      <td>0</td>\n      <td>1</td>\n      <td>...</td>\n      <td>0</td>\n      <td>1</td>\n      <td>0</td>\n      <td>0</td>\n      <td>1</td>\n      <td>0</td>\n      <td>1</td>\n      <td>1</td>\n      <td>0</td>\n      <td>0</td>\n    </tr>\n    <tr>\n      <th>1</th>\n      <td>0.047669</td>\n      <td>0.011964</td>\n      <td>0.010175</td>\n      <td>0</td>\n      <td>0.172414</td>\n      <td>0.00000</td>\n      <td>0.172414</td>\n      <td>0.0</td>\n      <td>0</td>\n      <td>0</td>\n      <td>...</td>\n      <td>0</td>\n      <td>1</td>\n      <td>0</td>\n      <td>1</td>\n      <td>0</td>\n      <td>1</td>\n      <td>0</td>\n      <td>0</td>\n      <td>0</td>\n      <td>1</td>\n    </tr>\n    <tr>\n      <th>2</th>\n      <td>0.263158</td>\n      <td>0.040179</td>\n      <td>0.000000</td>\n      <td>1</td>\n      <td>0.082759</td>\n      <td>0.00019</td>\n      <td>0.082759</td>\n      <td>0.0</td>\n      <td>0</td>\n      <td>0</td>\n      <td>...</td>\n      <td>0</td>\n      <td>1</td>\n      <td>0</td>\n      <td>0</td>\n      <td>1</td>\n      <td>1</td>\n      <td>0</td>\n      <td>1</td>\n      <td>0</td>\n      <td>0</td>\n    </tr>\n    <tr>\n      <th>3</th>\n      <td>0.517594</td>\n      <td>0.047679</td>\n      <td>0.011754</td>\n      <td>0</td>\n      <td>0.000000</td>\n      <td>0.00120</td>\n      <td>0.000000</td>\n      <td>0.0</td>\n      <td>0</td>\n      <td>1</td>\n      <td>...</td>\n      <td>0</td>\n      <td>1</td>\n      <td>0</td>\n      <td>1</td>\n      <td>0</td>\n      <td>1</td>\n      <td>0</td>\n      <td>1</td>\n      <td>0</td>\n      <td>0</td>\n    </tr>\n    <tr>\n      <th>4</th>\n      <td>0.279398</td>\n      <td>0.125000</td>\n      <td>0.017544</td>\n      <td>0</td>\n      <td>0.200000</td>\n      <td>0.00000</td>\n      <td>0.200000</td>\n      <td>0.0</td>\n      <td>0</td>\n      <td>0</td>\n      <td>...</td>\n      <td>0</td>\n      <td>1</td>\n      <td>0</td>\n      <td>1</td>\n      <td>0</td>\n      <td>0</td>\n      <td>1</td>\n      <td>1</td>\n      <td>0</td>\n      <td>0</td>\n    </tr>\n  </tbody>\n</table>\n<p>5 rows × 49 columns</p>\n</div>"
     },
     "metadata": {},
     "execution_count": 15
    }
   ],
   "source": [
    "#Encoding the string values columns using hot bit encoding \n",
    "df = pd.get_dummies(df)\n",
    "df.head()"
   ]
  },
  {
   "cell_type": "code",
   "execution_count": 16,
   "metadata": {},
   "outputs": [
    {
     "output_type": "execute_result",
     "data": {
      "text/plain": "   variable2  variable3  variable8  variable11  variable14  variable15  \\\n0   0.269768   0.298983    0.07925           0       0.210      0.0000   \n1   0.125925   0.071357    0.02700           0       0.068      0.0001   \n2   0.337005   0.029898    0.02925           0       0.120      0.0003   \n3   0.041098   0.415188    0.00625           0       0.060      0.0375   \n4   0.141049   0.531593    0.00200           0       0.060      0.0475   \n\n   variable17  variable19  Target Class  variable1_a  ...  variable7_z  \\\n0       0.210         1.0             0            0  ...            0   \n1       0.068         0.0             0            0  ...            0   \n2       0.120         1.0             0            0  ...            0   \n3       0.060         0.0             0            0  ...            0   \n4       0.060         1.0             0            0  ...            0   \n\n   variable9_f  variable9_t  variable10_f  variable10_t  variable12_f  \\\n0            0            1             1             0             0   \n1            1            0             1             0             0   \n2            1            0             1             0             1   \n3            0            1             1             0             1   \n4            1            0             1             0             0   \n\n   variable12_t  variable13_g  variable13_p  variable13_s  \n0             1             0             0             1  \n1             1             1             0             0  \n2             0             1             0             0  \n3             0             1             0             0  \n4             1             1             0             0  \n\n[5 rows x 45 columns]",
      "text/html": "<div>\n<style scoped>\n    .dataframe tbody tr th:only-of-type {\n        vertical-align: middle;\n    }\n\n    .dataframe tbody tr th {\n        vertical-align: top;\n    }\n\n    .dataframe thead th {\n        text-align: right;\n    }\n</style>\n<table border=\"1\" class=\"dataframe\">\n  <thead>\n    <tr style=\"text-align: right;\">\n      <th></th>\n      <th>variable2</th>\n      <th>variable3</th>\n      <th>variable8</th>\n      <th>variable11</th>\n      <th>variable14</th>\n      <th>variable15</th>\n      <th>variable17</th>\n      <th>variable19</th>\n      <th>Target Class</th>\n      <th>variable1_a</th>\n      <th>...</th>\n      <th>variable7_z</th>\n      <th>variable9_f</th>\n      <th>variable9_t</th>\n      <th>variable10_f</th>\n      <th>variable10_t</th>\n      <th>variable12_f</th>\n      <th>variable12_t</th>\n      <th>variable13_g</th>\n      <th>variable13_p</th>\n      <th>variable13_s</th>\n    </tr>\n  </thead>\n  <tbody>\n    <tr>\n      <th>0</th>\n      <td>0.269768</td>\n      <td>0.298983</td>\n      <td>0.07925</td>\n      <td>0</td>\n      <td>0.210</td>\n      <td>0.0000</td>\n      <td>0.210</td>\n      <td>1.0</td>\n      <td>0</td>\n      <td>0</td>\n      <td>...</td>\n      <td>0</td>\n      <td>0</td>\n      <td>1</td>\n      <td>1</td>\n      <td>0</td>\n      <td>0</td>\n      <td>1</td>\n      <td>0</td>\n      <td>0</td>\n      <td>1</td>\n    </tr>\n    <tr>\n      <th>1</th>\n      <td>0.125925</td>\n      <td>0.071357</td>\n      <td>0.02700</td>\n      <td>0</td>\n      <td>0.068</td>\n      <td>0.0001</td>\n      <td>0.068</td>\n      <td>0.0</td>\n      <td>0</td>\n      <td>0</td>\n      <td>...</td>\n      <td>0</td>\n      <td>1</td>\n      <td>0</td>\n      <td>1</td>\n      <td>0</td>\n      <td>0</td>\n      <td>1</td>\n      <td>1</td>\n      <td>0</td>\n      <td>0</td>\n    </tr>\n    <tr>\n      <th>2</th>\n      <td>0.337005</td>\n      <td>0.029898</td>\n      <td>0.02925</td>\n      <td>0</td>\n      <td>0.120</td>\n      <td>0.0003</td>\n      <td>0.120</td>\n      <td>1.0</td>\n      <td>0</td>\n      <td>0</td>\n      <td>...</td>\n      <td>0</td>\n      <td>1</td>\n      <td>0</td>\n      <td>1</td>\n      <td>0</td>\n      <td>1</td>\n      <td>0</td>\n      <td>1</td>\n      <td>0</td>\n      <td>0</td>\n    </tr>\n    <tr>\n      <th>3</th>\n      <td>0.041098</td>\n      <td>0.415188</td>\n      <td>0.00625</td>\n      <td>0</td>\n      <td>0.060</td>\n      <td>0.0375</td>\n      <td>0.060</td>\n      <td>0.0</td>\n      <td>0</td>\n      <td>0</td>\n      <td>...</td>\n      <td>0</td>\n      <td>0</td>\n      <td>1</td>\n      <td>1</td>\n      <td>0</td>\n      <td>1</td>\n      <td>0</td>\n      <td>1</td>\n      <td>0</td>\n      <td>0</td>\n    </tr>\n    <tr>\n      <th>4</th>\n      <td>0.141049</td>\n      <td>0.531593</td>\n      <td>0.00200</td>\n      <td>0</td>\n      <td>0.060</td>\n      <td>0.0475</td>\n      <td>0.060</td>\n      <td>1.0</td>\n      <td>0</td>\n      <td>0</td>\n      <td>...</td>\n      <td>0</td>\n      <td>1</td>\n      <td>0</td>\n      <td>1</td>\n      <td>0</td>\n      <td>0</td>\n      <td>1</td>\n      <td>1</td>\n      <td>0</td>\n      <td>0</td>\n    </tr>\n  </tbody>\n</table>\n<p>5 rows × 45 columns</p>\n</div>"
     },
     "metadata": {},
     "execution_count": 16
    }
   ],
   "source": [
    "validation = pd.get_dummies(validation)\n",
    "validation.head()\n"
   ]
  },
  {
   "cell_type": "code",
   "execution_count": 17,
   "metadata": {
    "tags": []
   },
   "outputs": [
    {
     "output_type": "stream",
     "name": "stdout",
     "text": "Training set has 2775 samples.\nTesting set has 925 samples.\n"
    }
   ],
   "source": [
    "from sklearn.model_selection import train_test_split\n",
    "\n",
    "target_data = df['Target Class']\n",
    "# target_data\n",
    "data = df.drop('Target Class',axis=1)\n",
    "\n",
    "\n",
    "\n",
    "\n",
    "\n",
    "X_train, X_test, y_train, y_test = train_test_split(data, \n",
    "                                                    target_data,  \n",
    "                                                    random_state = 0)\n",
    "                                                \n",
    "print(\"Training set has {} samples.\".format(X_train.shape[0]))\n",
    "print(\"Testing set has {} samples.\".format(X_test.shape[0]))"
   ]
  },
  {
   "cell_type": "code",
   "execution_count": 21,
   "metadata": {
    "tags": []
   },
   "outputs": [
    {
     "output_type": "stream",
     "name": "stdout",
     "text": "Accuracy of Linear SVC classifier on training set: 1.00\nAccuracy of Linear SVC classifier on test set: 1.00\n"
    }
   ],
   "source": [
    "from sklearn.svm import LinearSVC\n",
    "\n",
    "clf1 = LinearSVC().fit(X_train, y_train)\n",
    "print('Accuracy of Linear SVC classifier on training set: {:.2f}'\n",
    "     .format(clf1.score(X_train, y_train)))\n",
    "print('Accuracy of Linear SVC classifier on test set: {:.2f}'\n",
    "     .format(clf1.score(X_test, y_test)))"
   ]
  },
  {
   "cell_type": "code",
   "execution_count": 23,
   "metadata": {
    "tags": []
   },
   "outputs": [
    {
     "output_type": "stream",
     "name": "stdout",
     "text": "Most frequent class \n [[ 70   0]\n [  0 855]]\n"
    }
   ],
   "source": [
    "from sklearn.metrics import confusion_matrix\n",
    "\n",
    "clf1_predictions = clf1.predict(X_test)\n",
    "\n",
    "confusion = confusion_matrix(y_test, clf1_predictions)\n",
    "\n",
    "print('Most frequent class \\n', confusion)"
   ]
  },
  {
   "cell_type": "code",
   "execution_count": 24,
   "metadata": {
    "tags": []
   },
   "outputs": [
    {
     "output_type": "stream",
     "name": "stdout",
     "text": "precision    recall  f1-score   support\n\n           0       1.00      1.00      1.00        70\n           1       1.00      1.00      1.00       855\n\n    accuracy                           1.00       925\n   macro avg       1.00      1.00      1.00       925\nweighted avg       1.00      1.00      1.00       925\n\n"
    }
   ],
   "source": [
    "from sklearn.metrics import classification_report\n",
    "\n",
    "print(classification_report(y_test, clf1_predictions, target_names=['0', '1']))"
   ]
  },
  {
   "cell_type": "code",
   "execution_count": 22,
   "metadata": {
    "tags": []
   },
   "outputs": [
    {
     "output_type": "stream",
     "name": "stdout",
     "text": "Accuracy of Logistic regression classifier on training set: 1.00\nAccuracy of Logistic regression classifier on test set: 1.00\n"
    }
   ],
   "source": [
    "from sklearn.linear_model import LogisticRegression\n",
    "\n",
    "\n",
    "clf2 = LogisticRegression().fit(X_train, y_train)\n",
    "print('Accuracy of Logistic regression classifier on training set: {:.2f}'\n",
    "     .format(clf2.score(X_train, y_train)))\n",
    "print('Accuracy of Logistic regression classifier on test set: {:.2f}'\n",
    "     .format(clf2.score(X_test, y_test)))"
   ]
  },
  {
   "cell_type": "code",
   "execution_count": 20,
   "metadata": {},
   "outputs": [
    {
     "output_type": "execute_result",
     "data": {
      "text/plain": "array([0.85365854, 0.82926829, 0.9       , 0.76923077, 0.92307692])"
     },
     "metadata": {},
     "execution_count": 20
    }
   ],
   "source": [
    "from sklearn.model_selection import cross_val_score\n",
    "\n",
    "validation_target_data = validation['Target Class']\n",
    "# target_data\n",
    "validation_data = validation.drop('Target Class',axis=1)\n",
    "\n",
    "scores = cross_val_score(clf1, validation_data, validation_target_data, cv=5)\n",
    "scores\n",
    "\n"
   ]
  }
 ]
}